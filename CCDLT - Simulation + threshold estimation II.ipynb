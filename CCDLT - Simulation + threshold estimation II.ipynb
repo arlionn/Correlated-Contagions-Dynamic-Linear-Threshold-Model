{
 "cells": [
  {
   "cell_type": "code",
   "execution_count": 1,
   "metadata": {},
   "outputs": [],
   "source": [
    "n=10000\n",
    "m=10\n",
    "p=3 #Barabasi-Albert parameter\n",
    "init_Theta=0.05#0.06\n",
    "N=10 #number of time steps\n",
    "r=0 #0.3 #szansa aktywacji przy negatywnej korelacji\n",
    "prob=0.20 #prawd. aktywności użytkownika w danej epidemii (do generaowania macierzy)\n",
    "a=0.15#0.04 # parameter kształtu powr-law"
   ]
  },
  {
   "cell_type": "code",
   "execution_count": 2,
   "metadata": {},
   "outputs": [
    {
     "name": "stdout",
     "output_type": "stream",
     "text": [
      "1.Undirected graph done!\n",
      "2.Directed graph done!\n"
     ]
    },
    {
     "data": {
      "application/vnd.jupyter.widget-view+json": {
       "model_id": "04fb3892c36f489a8e9d6858f615bbdd",
       "version_major": 2,
       "version_minor": 0
      },
      "text/html": [
       "<p>Failed to display Jupyter Widget of type <code>HBox</code>.</p>\n",
       "<p>\n",
       "  If you're reading this message in Jupyter Notebook or JupyterLab, it may mean\n",
       "  that the widgets JavaScript is still loading. If this message persists, it\n",
       "  likely means that the widgets JavaScript library is either not installed or\n",
       "  not enabled. See the <a href=\"https://ipywidgets.readthedocs.io/en/stable/user_install.html\">Jupyter\n",
       "  Widgets Documentation</a> for setup instructions.\n",
       "</p>\n",
       "<p>\n",
       "  If you're reading this message in another notebook frontend (for example, a static\n",
       "  rendering on GitHub or <a href=\"https://nbviewer.jupyter.org/\">NBViewer</a>),\n",
       "  it may mean that your frontend doesn't currently support widgets.\n",
       "</p>\n"
      ],
      "text/plain": [
       "HBox(children=(IntProgress(value=0, max=59982), HTML(value='')))"
      ]
     },
     "metadata": {},
     "output_type": "display_data"
    },
    {
     "name": "stdout",
     "output_type": "stream",
     "text": [
      "\n",
      "3.Wieghts assigned!\n"
     ]
    },
    {
     "data": {
      "application/vnd.jupyter.widget-view+json": {
       "model_id": "cabc2b9c34134dff8dd9c09e9d790134",
       "version_major": 2,
       "version_minor": 0
      },
      "text/html": [
       "<p>Failed to display Jupyter Widget of type <code>HBox</code>.</p>\n",
       "<p>\n",
       "  If you're reading this message in Jupyter Notebook or JupyterLab, it may mean\n",
       "  that the widgets JavaScript is still loading. If this message persists, it\n",
       "  likely means that the widgets JavaScript library is either not installed or\n",
       "  not enabled. See the <a href=\"https://ipywidgets.readthedocs.io/en/stable/user_install.html\">Jupyter\n",
       "  Widgets Documentation</a> for setup instructions.\n",
       "</p>\n",
       "<p>\n",
       "  If you're reading this message in another notebook frontend (for example, a static\n",
       "  rendering on GitHub or <a href=\"https://nbviewer.jupyter.org/\">NBViewer</a>),\n",
       "  it may mean that your frontend doesn't currently support widgets.\n",
       "</p>\n"
      ],
      "text/plain": [
       "HBox(children=(IntProgress(value=0, max=10000), HTML(value='')))"
      ]
     },
     "metadata": {},
     "output_type": "display_data"
    },
    {
     "name": "stdout",
     "output_type": "stream",
     "text": [
      "\n",
      "4.Wieghts normalized!\n",
      "4.Adjacency (sparse) matrix created!\n"
     ]
    }
   ],
   "source": [
    "%matplotlib inline\n",
    "\n",
    "import copy\n",
    "import math\n",
    "import pandas as pd\n",
    "import matplotlib\n",
    "import numpy as np\n",
    "np.set_printoptions(threshold=np.nan)\n",
    "import matplotlib.pyplot as plt\n",
    "from tqdm import tqdm_notebook as tqdm\n",
    "import networkx as nx\n",
    "import scipy.sparse as sparse\n",
    "import asizeof\n",
    "from collections import defaultdict\n",
    "G=nx.barabasi_albert_graph(n, p)\n",
    "print('1.Undirected graph done!')\n",
    "G=G.to_directed()\n",
    "print('2.Directed graph done!')\n",
    "for u,v in tqdm(G.edges()):\n",
    "    G[u][v]['weight']=1.0#np.random.uniform(0,1)\n",
    "print('3.Wieghts assigned!')\n",
    "for i in tqdm(range(n)):\n",
    "    in_degree=G.in_degree(i,weight='weight')\n",
    "    for u,v in G.in_edges(i):\n",
    "        #print(u,v,G[u][v]['weight'],G[u][v]['weight'] / in_degree, in_degree)\n",
    "        G[u][v]['weight']/=in_degree\n",
    "print('4.Wieghts normalized!')\n",
    "W=nx.adjacency_matrix(G,weight='weight')\n",
    "print('4.Adjacency (sparse) matrix created!')"
   ]
  },
  {
   "cell_type": "code",
   "execution_count": 3,
   "metadata": {},
   "outputs": [
    {
     "name": "stdout",
     "output_type": "stream",
     "text": [
      "-0.994210761621 1.0 0.0202256085746 0.0550340548402\n",
      "Correlation matrix done!\n"
     ]
    }
   ],
   "source": [
    "C = np.random.random((m, m))\n",
    "C=C*2-1\n",
    "C *= np.tri(*C.shape,k=-1)\n",
    "C=C+np.transpose(C)+np.eye(m)\n",
    "print(C.min(),C.max(),C.mean(),np.median(C))\n",
    "print(\"Correlation matrix done!\")"
   ]
  },
  {
   "cell_type": "code",
   "execution_count": 4,
   "metadata": {},
   "outputs": [
    {
     "data": {
      "application/vnd.jupyter.widget-view+json": {
       "model_id": "ead2035615364eb0bf4fab9589c3641b",
       "version_major": 2,
       "version_minor": 0
      },
      "text/html": [
       "<p>Failed to display Jupyter Widget of type <code>HBox</code>.</p>\n",
       "<p>\n",
       "  If you're reading this message in Jupyter Notebook or JupyterLab, it may mean\n",
       "  that the widgets JavaScript is still loading. If this message persists, it\n",
       "  likely means that the widgets JavaScript library is either not installed or\n",
       "  not enabled. See the <a href=\"https://ipywidgets.readthedocs.io/en/stable/user_install.html\">Jupyter\n",
       "  Widgets Documentation</a> for setup instructions.\n",
       "</p>\n",
       "<p>\n",
       "  If you're reading this message in another notebook frontend (for example, a static\n",
       "  rendering on GitHub or <a href=\"https://nbviewer.jupyter.org/\">NBViewer</a>),\n",
       "  it may mean that your frontend doesn't currently support widgets.\n",
       "</p>\n"
      ],
      "text/plain": [
       "HBox(children=(IntProgress(value=0, max=10), HTML(value='')))"
      ]
     },
     "metadata": {},
     "output_type": "display_data"
    },
    {
     "name": "stdout",
     "output_type": "stream",
     "text": [
      "\n",
      "Initial state assigned!\n"
     ]
    }
   ],
   "source": [
    "indykatory=[]\n",
    "frakcje=[]\n",
    "import scipy.stats as stats\n",
    "frac_inf=np.ceil(stats.powerlaw.rvs(a,size=(m))*n).astype(int)\n",
    "I=np.full((n, m), False, dtype=bool)\n",
    "for i in tqdm(range(m)):\n",
    "    I[np.ix_(stats.randint.rvs(0, n-1, size=frac_inf[i]),[i])]=True\n",
    "indykatory.append(I)\n",
    "frakcje.append(np.vstack((range(m),np.sum(I,axis=0)/n)))\n",
    "I=copy.deepcopy(I)\n",
    "print(\"Initial state assigned!\")"
   ]
  },
  {
   "cell_type": "code",
   "execution_count": 5,
   "metadata": {},
   "outputs": [
    {
     "name": "stdout",
     "output_type": "stream",
     "text": [
      "Initial Theta assigned!\n"
     ]
    }
   ],
   "source": [
    "Theta=np.full((n,m), init_Theta)\n",
    "print(\"Initial Theta assigned!\")"
   ]
  },
  {
   "cell_type": "code",
   "execution_count": 6,
   "metadata": {},
   "outputs": [
    {
     "name": "stdout",
     "output_type": "stream",
     "text": [
      "Activation counter initiated!\n"
     ]
    }
   ],
   "source": [
    "Y=np.full((n,1),0)\n",
    "print(\"Activation counter initiated!\")"
   ]
  },
  {
   "cell_type": "code",
   "execution_count": 7,
   "metadata": {},
   "outputs": [
    {
     "data": {
      "application/vnd.jupyter.widget-view+json": {
       "model_id": "dc9ad45b87fa4d92b10027423f48b9df",
       "version_major": 2,
       "version_minor": 0
      },
      "text/html": [
       "<p>Failed to display Jupyter Widget of type <code>HBox</code>.</p>\n",
       "<p>\n",
       "  If you're reading this message in Jupyter Notebook or JupyterLab, it may mean\n",
       "  that the widgets JavaScript is still loading. If this message persists, it\n",
       "  likely means that the widgets JavaScript library is either not installed or\n",
       "  not enabled. See the <a href=\"https://ipywidgets.readthedocs.io/en/stable/user_install.html\">Jupyter\n",
       "  Widgets Documentation</a> for setup instructions.\n",
       "</p>\n",
       "<p>\n",
       "  If you're reading this message in another notebook frontend (for example, a static\n",
       "  rendering on GitHub or <a href=\"https://nbviewer.jupyter.org/\">NBViewer</a>),\n",
       "  it may mean that your frontend doesn't currently support widgets.\n",
       "</p>\n"
      ],
      "text/plain": [
       "HBox(children=(IntProgress(value=0, max=10), HTML(value='')))"
      ]
     },
     "metadata": {},
     "output_type": "display_data"
    },
    {
     "name": "stdout",
     "output_type": "stream",
     "text": [
      "\n"
     ]
    }
   ],
   "source": [
    "df=[]\n",
    "for l in tqdm(range(N)):    \n",
    "    U=W.transpose().dot(I)\n",
    "    F=U.dot(C)/m\n",
    "    #print(F.min(),F.max(),F.mean(),l)\n",
    "    temp=np.greater_equal(F, Theta) #porównanie funkcji aktywacji z progiem\n",
    "    ### dodawanie rekordów bez przekroczenia progu\n",
    "    for i in np.unique(np.where(temp[:,:]==False)[0]):\n",
    "        temp1=np.where(temp[i,:]==False)[0] #tagi, w których dla użytkownika i przekroczony nie był próg\n",
    "        temp2=np.where(I[i][:]==True)[0] #tagi juz aktywne\n",
    "        temp1=np.setdiff1d(temp1,temp2) #usuniecie juz aktywnych tagow\n",
    "        for j in temp1:\n",
    "            df.append([i,copy.deepcopy(F[i][j]),0,copy.deepcopy(Y[i][0])])\n",
    "    ###\n",
    "    for i in np.unique(np.where(temp[:,:]==True)[0]): #iteracja po użytkownikach, którzy mają przekroczony próg\n",
    "        temp1=np.where(temp[i,:]==True)[0] #tagi, w których dla użytkownika i przekroczony był próg\n",
    "        temp2=np.where(I[i][:]==True)[0] #tagi juz aktywne\n",
    "        temp1=np.setdiff1d(temp1,temp2) #usuniecie juz aktywnych tagow\n",
    "    ### dodawanie rekordów z przekroczeniem progów\n",
    "        for j in temp1:\n",
    "            df.append([i,copy.deepcopy(F[i][j]),1,copy.deepcopy(Y[i][0])])\n",
    "    ### \n",
    "        if (not np.any(C[temp1[:, None],temp1]<0)) and (not temp1.size==0): #sprawdzenie, czy kandydaci do aktywacji nie są negatywnie skorelowani\n",
    "            I[i][temp1]=True #aktywacja uzytkownika i w tagach z listy temp1\n",
    "            Y[i][0]+=1#Y[i]+=1 #zwiekszenie licznika aktywacji uzytkownika i\n",
    "            Theta[i]=1-math.pow(1-init_Theta,Y[i][0]+1) #aktualizacja thety\n",
    "        else:\n",
    "            if (np.random.rand()<r) and (not temp1.size==0): #aktywacji pomimo negatywnej korelacji z pr. r\n",
    "                I[i][temp1]=True\n",
    "                Y[i][0]+=1\n",
    "                Theta[i]=1-math.pow(1-init_Theta,Y[i][0]+1)\n",
    "                if temp1.size==0:\n",
    "                    print('empty!')\n",
    "    indykatory.append(I)\n",
    "    frakcje.append(np.vstack((range(m),np.sum(I,axis=0)/n)))\n",
    "    I=copy.deepcopy(I)\n",
    "del temp"
   ]
  },
  {
   "cell_type": "code",
   "execution_count": 8,
   "metadata": {},
   "outputs": [
    {
     "data": {
      "image/png": "[encoded data removed]",
      "text/plain": [
       "<matplotlib.figure.Figure at 0x7f8a78b9e7f0>"
      ]
     },
     "metadata": {},
     "output_type": "display_data"
    },
    {
     "data": {
      "image/png": "[encoded data removed]",
      "text/plain": [
       "<matplotlib.figure.Figure at 0x7f8a25e43320>"
      ]
     },
     "metadata": {},
     "output_type": "display_data"
    },
    {
     "data": {
      "image/png": "[encoded data removed]",
      "text/plain": [
       "<matplotlib.figure.Figure at 0x7f8a25da8048>"
      ]
     },
     "metadata": {},
     "output_type": "display_data"
    },
    {
     "data": {
      "image/png": "[encoded data removed]",
      "text/plain": [
       "<matplotlib.figure.Figure at 0x7f8a25e68898>"
      ]
     },
     "metadata": {},
     "output_type": "display_data"
    },
    {
     "data": {
      "image/png": "[encoded data removed]",
      "text/plain": [
       "<matplotlib.figure.Figure at 0x7f8a25db9b38>"
      ]
     },
     "metadata": {},
     "output_type": "display_data"
    },
    {
     "data": {
      "image/png": "[encoded data removed]",
      "text/plain": [
       "<matplotlib.figure.Figure at 0x7f8a25bb7f98>"
      ]
     },
     "metadata": {},
     "output_type": "display_data"
    },
    {
     "data": {
      "image/png": "[encoded data removed]",
      "text/plain": [
       "<matplotlib.figure.Figure at 0x7f8a25ac7e48>"
      ]
     },
     "metadata": {},
     "output_type": "display_data"
    },
    {
     "data": {
      "image/png": "[encoded data removed]",
      "text/plain": [
       "<matplotlib.figure.Figure at 0x7f8a25a8b2b0>"
      ]
     },
     "metadata": {},
     "output_type": "display_data"
    },
    {
     "data": {
      "image/png": "[encoded data removed]",
      "text/plain": [
       "<matplotlib.figure.Figure at 0x7f8a25ac7ac8>"
      ]
     },
     "metadata": {},
     "output_type": "display_data"
    },
    {
     "data": {
      "image/png": "[encoded data removed]",
      "text/plain": [
       "<matplotlib.figure.Figure at 0x7f8a25c08cf8>"
      ]
     },
     "metadata": {},
     "output_type": "display_data"
    },
    {
     "data": {
      "image/png": "[encoded data removed]",
      "text/plain": [
       "<matplotlib.figure.Figure at 0x7f8a25ba8cf8>"
      ]
     },
     "metadata": {},
     "output_type": "display_data"
    }
   ],
   "source": [
    "for i in range(N+1):\n",
    "    plt.plot(frakcje[i][1], 'ro')\n",
    "    axes = plt.gca()\n",
    "    axes.set_ylim([0,1])\n",
    "    if i>0:\n",
    "        wzrost=frakcje[i][np.ix_([0,1],np.where(frakcje[i]>frakcje[i-1])[1])]\n",
    "        plt.plot(wzrost[0],wzrost[1], 'go')\n",
    "    plt.show()"
   ]
  },
  {
   "cell_type": "code",
   "execution_count": 9,
   "metadata": {},
   "outputs": [],
   "source": [
    "for i in range(N):\n",
    "    if np.array_equal(indykatory[i],indykatory[i+1])==True:\n",
    "        print(i)"
   ]
  },
  {
   "cell_type": "code",
   "execution_count": 10,
   "metadata": {},
   "outputs": [],
   "source": [
    "import pandas as pd\n",
    "df=pd.DataFrame(df)\n",
    "df.columns=['user','x','y','w']"
   ]
  },
  {
   "cell_type": "markdown",
   "metadata": {},
   "source": [
    "## Logistic Regression"
   ]
  },
  {
   "cell_type": "code",
   "execution_count": 11,
   "metadata": {},
   "outputs": [],
   "source": [
    "from pandas import DataFrame\n",
    "from sklearn import preprocessing\n",
    "from numpy import loadtxt, where\n",
    "from pylab import scatter, show, legend, xlabel, ylabel\n",
    "\n",
    "##The sigmoid function adjusts the cost function hypotheses to adjust the algorithm proportionally for worse estimations\n",
    "def Sigmoid(z):\n",
    "    G_of_Z = float(1.0 / float((1.0 + math.exp(-1.0*z))))\n",
    "    return G_of_Z\n",
    "\n",
    "##The hypothesis is the linear combination of all the known factors x[i] and their current estimated coefficients theta[i] \n",
    "##This hypothesis will be used to calculate each instance of the Cost Function\n",
    "def Hypothesis(theta, x):\n",
    "    z = x-theta\n",
    "    return Sigmoid(z)\n",
    "\n",
    "##For each member of the dataset, the result (Y) determines which variation of the cost function is used\n",
    "##The Y = 0 cost function punishes high probability estimations, and the Y = 1 it punishes low scores\n",
    "##The \"punishment\" makes the change in the gradient of ThetaCurrent - Average(CostFunction(Dataset)) greater\n",
    "def Cost_Function(X,Y,theta,m):\n",
    "    sumOfErrors = 0\n",
    "    for i in range(m):\n",
    "        hi = Hypothesis(theta,X[i])\n",
    "        error=Y[i]*math.log(hi)+(1-Y[i])*math.log(1-hi)\n",
    "        sumOfErrors += error\n",
    "    const = -1/m\n",
    "    J = const * sumOfErrors\n",
    "    return J\n",
    "\n",
    "##This function creates the gradient component for each Theta value \n",
    "##The gradient is the partial derivative by Theta of the current value of theta minus \n",
    "##a \"learning speed factor aplha\" times the average of all the cost functions for that theta\n",
    "##For each Theta there is a cost function calculated for each member of the dataset\n",
    "def Cost_Function_Derivative(X,Y,theta,m,alpha):\n",
    "    sumErrors = 0\n",
    "    for i in range(m):\n",
    "        xi = X[i]\n",
    "        hi = Hypothesis(theta,xi)\n",
    "        error = -1.0*(hi - Y[i])\n",
    "        sumErrors += error\n",
    "    constant = float(alpha)/float(m)\n",
    "    J = constant * sumErrors\n",
    "    return J\n",
    "\n",
    "\n",
    "##For each theta, the partial differential \n",
    "##The gradient, or vector from the current point in Theta-space (each theta value is its own dimension) to the more accurate point, \n",
    "##is the vector with each dimensional component being the partial differential for each theta value\n",
    "def Gradient_Descent(X,Y,theta,m,alpha):\n",
    "    CFDerivative = Cost_Function_Derivative(X,Y,theta,m,alpha)\n",
    "    new_theta = theta-CFDerivative\n",
    "    return [new_theta, CFDerivative]\n",
    "\n",
    "##The high level function for the LR algorithm which, for a number of steps (num_iters) finds gradients which take \n",
    "##the Theta values (coefficients of known factors) from an estimation closer (new_theta) to their \"optimum estimation\" which is the\n",
    "##set of values best representing the system in a linear combination model\n",
    "def Logistic_Regression(X,Y,alpha,theta,num_iters):\n",
    "    m = len(Y)\n",
    "    cost=[Cost_Function(X,Y,theta,m)]\n",
    "    Theta=[theta]\n",
    "    gradient=[]\n",
    "    for x in range(num_iters):\n",
    "        GD = Gradient_Descent(X,Y,theta,m,alpha)\n",
    "        theta = GD[0]\n",
    "        gradient.append(GD[1])\n",
    "        cost.append(Cost_Function(X,Y,theta,m))\n",
    "        Theta.append(theta)\n",
    "        if abs(GD[1])<0.00001:\n",
    "            break\n",
    "        #if x % 100 == 0:\n",
    "            #here the cost function is used to present the final hypothesis of the model in the same form for each gradient-step iteration\n",
    "            #print(\"theta \", theta, \" at \",x,\"-th iteration\")\n",
    "            #print(\"cost is \", Cost_Function(X,Y,W,theta,m))\n",
    "    return [Theta,cost,gradient]"
   ]
  },
  {
   "cell_type": "code",
   "execution_count": 12,
   "metadata": {},
   "outputs": [],
   "source": [
    "from joblib import Parallel, delayed\n",
    "import time\n",
    "def text_progessbar(seq, total=None):\n",
    "    step = 1\n",
    "    tick = time.time()\n",
    "    while True:\n",
    "        time_diff = time.time()-tick\n",
    "        avg_speed = time_diff/step\n",
    "        total_str = 'of %n' % total if total else ''\n",
    "        print('user', step, '%.2f' % time_diff, 'avg: %.2f iter/sec' % avg_speed, total_str)\n",
    "        step += 1\n",
    "        yield next(seq)\n",
    "all_bar_funcs = {\n",
    "    'txt': lambda args: lambda x: text_progessbar(x, **args),\n",
    "    'None': lambda args: iter,\n",
    "}\n",
    "def ParallelExecutor(use_bar='tqdm', **joblib_args):\n",
    "    def aprun(bar=use_bar, **tq_args):\n",
    "        def tmp(op_iter):\n",
    "            if str(bar) in all_bar_funcs.keys():\n",
    "                bar_func = all_bar_funcs[str(bar)](tq_args)\n",
    "            else:\n",
    "                raise ValueError(\"Value %s not supported as bar type\"%bar)\n",
    "            return Parallel(**joblib_args)(bar_func(op_iter))\n",
    "        return tmp\n",
    "    return aprun\n",
    "n_jobs=22\n",
    "aprun = ParallelExecutor(n_jobs=n_jobs)"
   ]
  },
  {
   "cell_type": "markdown",
   "metadata": {},
   "source": [
    "## Data preprocessing"
   ]
  },
  {
   "cell_type": "code",
   "execution_count": 13,
   "metadata": {},
   "outputs": [],
   "source": [
    "def Estimate_theta(df,user,initial_theta,alpha,num_iters):\n",
    "    res=[]\n",
    "    for i in df[df['user']==user]['w'].unique():\n",
    "        X=df[(df['user']==user) & (df['w']==i)]\n",
    "        Y=X['y']\n",
    "        Y=np.array(Y)#.reshape(-1, 1)\n",
    "        #print('srednia z W to ',np.mean(W))\n",
    "        X=X['x']\n",
    "        X=np.array(X).reshape(-1, 1)\n",
    "        mini=X.min(axis=0)\n",
    "        maxi=X.max(axis=0)\n",
    "        X=((X - mini) / (maxi - mini))*2-1\n",
    "        initial_theta=1-math.pow(1-initial_theta,i+1)\n",
    "        #initial_theta=((initial_theta - mini) / (maxi - mini))*2-1\n",
    "        LR=Logistic_Regression(X,Y,alpha,initial_theta,num_iters)\n",
    "        LR[0]=[(x+1)/2*(maxi-mini)+mini for x in LR[0]]\n",
    "        #LR[0]=[0 if x>1 else x for x in LR[0]]\n",
    "        LR[0]=[1-math.pow(1-x,1/float(i+1)) for x in LR[0]]\n",
    "        res.append(LR)\n",
    "    return res"
   ]
  },
  {
   "cell_type": "code",
   "execution_count": 21,
   "metadata": {},
   "outputs": [
    {
     "data": {
      "image/png": "[encoded data removed]",
      "text/plain": [
       "<matplotlib.figure.Figure at 0x7f8a25bce908>"
      ]
     },
     "metadata": {},
     "output_type": "display_data"
    }
   ],
   "source": [
    "i=1\n",
    "X=df[(df['user']==0) & (df['w']==i)]\n",
    "Y=X['y']\n",
    "Y=np.array(Y)#.reshape(-1, 1)\n",
    "#print('srednia z W to ',np.mean(W))\n",
    "X=X['x']\n",
    "X=np.array(X).reshape(-1, 1)\n",
    "mini=X.min(axis=0)\n",
    "maxi=X.max(axis=0)\n",
    "X=((X - mini) / (maxi - mini))*2-1\n",
    "m=len(Y)\n",
    "for j in np.arange(-0,0.4,0.002):\n",
    "    plt.plot(j,1-math.pow(1-Cost_Function(X,Y,((j - mini) / (maxi - mini))*2-1,m),1/float(i+1)),'bo')\n",
    "plt.show()"
   ]
  },
  {
   "cell_type": "code",
   "execution_count": 19,
   "metadata": {
    "scrolled": true
   },
   "outputs": [
    {
     "data": {
      "application/vnd.jupyter.widget-view+json": {
       "model_id": "60ca418ae6ae416ea9ec60d3987e7d55",
       "version_major": 2,
       "version_minor": 0
      },
      "text/html": [
       "<p>Failed to display Jupyter Widget of type <code>HBox</code>.</p>\n",
       "<p>\n",
       "  If you're reading this message in Jupyter Notebook or JupyterLab, it may mean\n",
       "  that the widgets JavaScript is still loading. If this message persists, it\n",
       "  likely means that the widgets JavaScript library is either not installed or\n",
       "  not enabled. See the <a href=\"https://ipywidgets.readthedocs.io/en/stable/user_install.html\">Jupyter\n",
       "  Widgets Documentation</a> for setup instructions.\n",
       "</p>\n",
       "<p>\n",
       "  If you're reading this message in another notebook frontend (for example, a static\n",
       "  rendering on GitHub or <a href=\"https://nbviewer.jupyter.org/\">NBViewer</a>),\n",
       "  it may mean that your frontend doesn't currently support widgets.\n",
       "</p>\n"
      ],
      "text/plain": [
       "HBox(children=(IntProgress(value=0, max=3), HTML(value='')))"
      ]
     },
     "metadata": {},
     "output_type": "display_data"
    },
    {
     "data": {
      "image/png": "[encoded data removed]",
      "text/plain": [
       "<matplotlib.figure.Figure at 0x7f89af876550>"
      ]
     },
     "metadata": {},
     "output_type": "display_data"
    },
    {
     "data": {
      "image/png": "[encoded data removed]",
      "text/plain": [
       "<matplotlib.figure.Figure at 0x7f8a5d360c18>"
      ]
     },
     "metadata": {},
     "output_type": "display_data"
    },
    {
     "data": {
      "image/png": "[encoded data removed]",
      "text/plain": [
       "<matplotlib.figure.Figure at 0x7f8a25e99ef0>"
      ]
     },
     "metadata": {},
     "output_type": "display_data"
    },
    {
     "data": {
      "image/png": "[encoded data removed]",
      "text/plain": [
       "<matplotlib.figure.Figure at 0x7f89d4be49b0>"
      ]
     },
     "metadata": {},
     "output_type": "display_data"
    },
    {
     "data": {
      "image/png": "[encoded data removed]",
      "text/plain": [
       "<matplotlib.figure.Figure at 0x7f8a25cbf6a0>"
      ]
     },
     "metadata": {},
     "output_type": "display_data"
    },
    {
     "data": {
      "image/png": "[encoded data removed]",
      "text/plain": [
       "<matplotlib.figure.Figure at 0x7f89ea35c588>"
      ]
     },
     "metadata": {},
     "output_type": "display_data"
    },
    {
     "data": {
      "image/png": "[encoded data removed]",
      "text/plain": [
       "<matplotlib.figure.Figure at 0x7f89c23d7588>"
      ]
     },
     "metadata": {},
     "output_type": "display_data"
    },
    {
     "data": {
      "image/png": "[encoded data removed]",
      "text/plain": [
       "<matplotlib.figure.Figure at 0x7f89c23e0b38>"
      ]
     },
     "metadata": {},
     "output_type": "display_data"
    },
    {
     "data": {
      "image/png": "[encoded data removed]",
      "text/plain": [
       "<matplotlib.figure.Figure at 0x7f89e8ed1080>"
      ]
     },
     "metadata": {},
     "output_type": "display_data"
    },
    {
     "data": {
      "image/png": "[encoded data removed]",
      "text/plain": [
       "<matplotlib.figure.Figure at 0x7f89ea331be0>"
      ]
     },
     "metadata": {},
     "output_type": "display_data"
    },
    {
     "data": {
      "image/png": "[encoded data removed]",
      "text/plain": [
       "<matplotlib.figure.Figure at 0x7f89e7f13ef0>"
      ]
     },
     "metadata": {},
     "output_type": "display_data"
    },
    {
     "data": {
      "image/png": "[encoded data removed]",
      "text/plain": [
       "<matplotlib.figure.Figure at 0x7f8a25e99a58>"
      ]
     },
     "metadata": {},
     "output_type": "display_data"
    },
    {
     "name": "stdout",
     "output_type": "stream",
     "text": [
      "\n"
     ]
    }
   ],
   "source": [
    "initial_theta = 0\n",
    "alpha = 0.05\n",
    "iterations = 3000\n",
    "user=1\n",
    "res=Estimate_theta(df,user,initial_theta,alpha,iterations)\n",
    "for i in tqdm(range(len(res))):\n",
    "    initial_Theta=init_Theta\n",
    "    #print(initial_theta)\n",
    "    fig=plt.figure()\n",
    "    plt.plot(res[i][0])\n",
    "    fig.suptitle(f'theta values (true theta {initial_Theta:6.5})')\n",
    "    plt.show()\n",
    "    fig=plt.figure()\n",
    "    plt.plot([np.abs(x - initial_Theta)/ initial_Theta for x in res[i][0]])\n",
    "    fig.suptitle('theta fitt')\n",
    "    plt.show()\n",
    "    fig=plt.figure()\n",
    "    plt.plot(res[i][1])\n",
    "    fig.suptitle('cost')\n",
    "    plt.show()\n",
    "    fig=plt.figure()\n",
    "    plt.plot(res[i][2])\n",
    "    fig.suptitle('gradient')\n",
    "    plt.show()"
   ]
  },
  {
   "cell_type": "code",
   "execution_count": 17,
   "metadata": {},
   "outputs": [
    {
     "name": "stdout",
     "output_type": "stream",
     "text": [
      "user 1 0.00 avg: 0.00 iter/sec \n",
      "user 2 0.00 avg: 0.00 iter/sec \n",
      "user 3 0.01 avg: 0.00 iter/sec \n",
      "user 4 0.01 avg: 0.00 iter/sec \n",
      "user 5 0.01 avg: 0.00 iter/sec \n",
      "user 6 0.01 avg: 0.00 iter/sec \n",
      "user 7 0.01 avg: 0.00 iter/sec \n",
      "user 8 0.02 avg: 0.00 iter/sec \n",
      "user 9 0.02 avg: 0.00 iter/sec \n",
      "user 10 0.02 avg: 0.00 iter/sec \n",
      "user 11 0.02 avg: 0.00 iter/sec \n",
      "user 12 0.02 avg: 0.00 iter/sec \n",
      "user 13 0.03 avg: 0.00 iter/sec \n",
      "user 14 0.03 avg: 0.00 iter/sec \n",
      "user 15 0.03 avg: 0.00 iter/sec \n",
      "user 16 0.03 avg: 0.00 iter/sec \n",
      "user 17 0.03 avg: 0.00 iter/sec \n",
      "user 18 0.04 avg: 0.00 iter/sec \n",
      "user 19 0.04 avg: 0.00 iter/sec \n",
      "user 20 0.04 avg: 0.00 iter/sec \n",
      "user 21 0.04 avg: 0.00 iter/sec \n",
      "user 22 0.04 avg: 0.00 iter/sec \n",
      "user 23 0.04 avg: 0.00 iter/sec \n",
      "user 24 0.04 avg: 0.00 iter/sec \n",
      "user 25 0.05 avg: 0.00 iter/sec \n",
      "user 26 0.05 avg: 0.00 iter/sec \n",
      "user 27 0.05 avg: 0.00 iter/sec \n",
      "user 28 0.05 avg: 0.00 iter/sec \n",
      "user 29 0.05 avg: 0.00 iter/sec \n",
      "user 30 0.05 avg: 0.00 iter/sec \n",
      "user 31 0.05 avg: 0.00 iter/sec \n",
      "user 32 0.05 avg: 0.00 iter/sec \n",
      "user 33 0.05 avg: 0.00 iter/sec \n",
      "user 34 0.06 avg: 0.00 iter/sec \n",
      "user 35 0.06 avg: 0.00 iter/sec \n",
      "user 36 0.06 avg: 0.00 iter/sec \n",
      "user 37 0.06 avg: 0.00 iter/sec \n",
      "user 38 0.06 avg: 0.00 iter/sec \n",
      "user 39 0.06 avg: 0.00 iter/sec \n",
      "user 40 0.06 avg: 0.00 iter/sec \n",
      "user 41 0.06 avg: 0.00 iter/sec \n",
      "user 42 0.06 avg: 0.00 iter/sec \n",
      "user 43 0.06 avg: 0.00 iter/sec \n",
      "user 44 0.07 avg: 0.00 iter/sec \n",
      "user 45 8.35 avg: 0.19 iter/sec \n",
      "user 46 8.62 avg: 0.19 iter/sec \n",
      "user 47 8.93 avg: 0.19 iter/sec \n",
      "user 48 8.98 avg: 0.19 iter/sec \n",
      "user 49 9.04 avg: 0.18 iter/sec \n",
      "user 50 9.11 avg: 0.18 iter/sec \n",
      "user 51 9.27 avg: 0.18 iter/sec \n",
      "user 52 9.44 avg: 0.18 iter/sec \n",
      "user 53 9.81 avg: 0.19 iter/sec \n",
      "user 54 9.87 avg: 0.18 iter/sec \n",
      "user 55 9.95 avg: 0.18 iter/sec \n",
      "user 56 10.04 avg: 0.18 iter/sec \n",
      "user 57 10.12 avg: 0.18 iter/sec \n",
      "user 58 10.37 avg: 0.18 iter/sec \n",
      "user 59 10.44 avg: 0.18 iter/sec \n",
      "user 60 10.52 avg: 0.18 iter/sec \n",
      "user 61 10.65 avg: 0.17 iter/sec \n",
      "user 62 10.87 avg: 0.18 iter/sec \n",
      "user 63 10.95 avg: 0.17 iter/sec \n",
      "user 64 11.24 avg: 0.18 iter/sec \n",
      "user 65 11.37 avg: 0.17 iter/sec \n",
      "user 66 11.48 avg: 0.17 iter/sec \n",
      "user 67 16.34 avg: 0.24 iter/sec \n",
      "user 68 17.09 avg: 0.25 iter/sec \n",
      "user 69 18.01 avg: 0.26 iter/sec \n",
      "user 70 18.30 avg: 0.26 iter/sec \n",
      "user 71 18.44 avg: 0.26 iter/sec \n",
      "user 72 18.49 avg: 0.26 iter/sec \n",
      "user 73 18.63 avg: 0.26 iter/sec \n",
      "user 74 18.71 avg: 0.25 iter/sec \n",
      "user 75 18.78 avg: 0.25 iter/sec \n",
      "user 76 18.86 avg: 0.25 iter/sec \n",
      "user 77 18.91 avg: 0.25 iter/sec \n",
      "user 78 18.96 avg: 0.24 iter/sec \n",
      "user 79 19.16 avg: 0.24 iter/sec \n",
      "user 80 19.20 avg: 0.24 iter/sec \n",
      "user 81 19.32 avg: 0.24 iter/sec \n",
      "user 82 19.41 avg: 0.24 iter/sec \n",
      "user 83 19.90 avg: 0.24 iter/sec \n",
      "user 84 20.03 avg: 0.24 iter/sec \n",
      "user 85 20.16 avg: 0.24 iter/sec \n",
      "user 86 20.80 avg: 0.24 iter/sec \n",
      "user 87 20.95 avg: 0.24 iter/sec \n",
      "user 88 21.03 avg: 0.24 iter/sec \n",
      "user 89 25.47 avg: 0.29 iter/sec \n",
      "user 90 25.94 avg: 0.29 iter/sec \n",
      "user 91 26.02 avg: 0.29 iter/sec \n",
      "user 92 26.79 avg: 0.29 iter/sec \n",
      "user 93 26.83 avg: 0.29 iter/sec \n",
      "user 94 27.04 avg: 0.29 iter/sec \n",
      "user 95 27.09 avg: 0.29 iter/sec \n",
      "user 96 27.72 avg: 0.29 iter/sec \n",
      "user 97 28.27 avg: 0.29 iter/sec \n",
      "user 98 28.34 avg: 0.29 iter/sec \n",
      "user 99 28.60 avg: 0.29 iter/sec \n",
      "user 100 28.68 avg: 0.29 iter/sec \n",
      "user 101 28.76 avg: 0.28 iter/sec \n",
      "user 102 28.83 avg: 0.28 iter/sec \n",
      "user 103 28.96 avg: 0.28 iter/sec \n",
      "user 104 29.29 avg: 0.28 iter/sec \n",
      "user 105 29.53 avg: 0.28 iter/sec \n",
      "user 106 29.61 avg: 0.28 iter/sec \n",
      "user 107 29.69 avg: 0.28 iter/sec \n",
      "user 108 30.09 avg: 0.28 iter/sec \n",
      "user 109 30.33 avg: 0.28 iter/sec \n",
      "user 110 31.44 avg: 0.29 iter/sec \n",
      "user 111 33.57 avg: 0.30 iter/sec \n",
      "user 112 34.82 avg: 0.31 iter/sec \n",
      "user 113 35.04 avg: 0.31 iter/sec \n",
      "user 114 35.44 avg: 0.31 iter/sec \n",
      "user 115 35.76 avg: 0.31 iter/sec \n",
      "user 116 36.18 avg: 0.31 iter/sec \n",
      "user 117 36.58 avg: 0.31 iter/sec \n",
      "user 118 36.63 avg: 0.31 iter/sec \n",
      "user 119 36.83 avg: 0.31 iter/sec \n",
      "user 120 37.37 avg: 0.31 iter/sec \n",
      "user 121 37.80 avg: 0.31 iter/sec \n",
      "user 122 37.88 avg: 0.31 iter/sec \n",
      "user 123 37.95 avg: 0.31 iter/sec \n",
      "user 124 38.00 avg: 0.31 iter/sec \n",
      "user 125 38.14 avg: 0.31 iter/sec \n",
      "user 126 38.31 avg: 0.30 iter/sec \n",
      "user 127 38.39 avg: 0.30 iter/sec \n",
      "user 128 38.69 avg: 0.30 iter/sec \n",
      "user 129 39.30 avg: 0.30 iter/sec \n",
      "user 130 39.66 avg: 0.31 iter/sec \n",
      "user 131 39.89 avg: 0.30 iter/sec \n",
      "user 132 40.06 avg: 0.30 iter/sec \n",
      "user 133 43.20 avg: 0.32 iter/sec \n",
      "user 134 44.54 avg: 0.33 iter/sec \n",
      "user 135 45.05 avg: 0.33 iter/sec \n",
      "user 136 45.21 avg: 0.33 iter/sec \n",
      "user 137 45.37 avg: 0.33 iter/sec \n",
      "user 138 45.83 avg: 0.33 iter/sec \n",
      "user 139 46.04 avg: 0.33 iter/sec \n",
      "user 140 46.11 avg: 0.33 iter/sec \n",
      "user 141 46.19 avg: 0.33 iter/sec \n",
      "user 142 46.48 avg: 0.33 iter/sec \n",
      "user 143 46.56 avg: 0.33 iter/sec \n",
      "user 144 46.63 avg: 0.32 iter/sec \n",
      "user 145 46.74 avg: 0.32 iter/sec \n",
      "user 146 46.79 avg: 0.32 iter/sec \n",
      "user 147 46.88 avg: 0.32 iter/sec \n",
      "user 148 47.21 avg: 0.32 iter/sec \n",
      "user 149 47.32 avg: 0.32 iter/sec \n",
      "user 150 47.53 avg: 0.32 iter/sec \n",
      "user 151 48.45 avg: 0.32 iter/sec \n",
      "user 152 48.50 avg: 0.32 iter/sec \n",
      "user 153 48.58 avg: 0.32 iter/sec \n",
      "user 154 50.47 avg: 0.33 iter/sec \n",
      "user 155 52.60 avg: 0.34 iter/sec \n",
      "user 156 52.82 avg: 0.34 iter/sec \n",
      "user 157 53.89 avg: 0.34 iter/sec \n",
      "user 158 54.48 avg: 0.34 iter/sec \n",
      "user 159 54.90 avg: 0.35 iter/sec \n",
      "user 160 54.98 avg: 0.34 iter/sec \n",
      "user 161 55.06 avg: 0.34 iter/sec \n",
      "user 162 55.14 avg: 0.34 iter/sec \n",
      "user 163 55.19 avg: 0.34 iter/sec \n",
      "user 164 55.24 avg: 0.34 iter/sec \n",
      "user 165 55.66 avg: 0.34 iter/sec \n",
      "user 166 55.91 avg: 0.34 iter/sec \n",
      "user 167 56.22 avg: 0.34 iter/sec \n",
      "user 168 56.48 avg: 0.34 iter/sec \n",
      "user 169 56.65 avg: 0.34 iter/sec \n",
      "user 170 56.72 avg: 0.33 iter/sec \n",
      "user 171 56.80 avg: 0.33 iter/sec \n",
      "user 172 56.88 avg: 0.33 iter/sec \n",
      "user 173 57.15 avg: 0.33 iter/sec \n",
      "user 174 57.41 avg: 0.33 iter/sec \n",
      "user 175 58.35 avg: 0.33 iter/sec \n",
      "user 176 58.75 avg: 0.33 iter/sec \n",
      "user 177 61.59 avg: 0.35 iter/sec \n",
      "user 178 62.58 avg: 0.35 iter/sec \n",
      "user 179 62.86 avg: 0.35 iter/sec \n",
      "user 180 63.02 avg: 0.35 iter/sec \n",
      "user 181 63.93 avg: 0.35 iter/sec \n",
      "user 182 64.06 avg: 0.35 iter/sec \n",
      "user 183 64.14 avg: 0.35 iter/sec \n",
      "user 184 64.28 avg: 0.35 iter/sec \n",
      "user 185 64.55 avg: 0.35 iter/sec \n",
      "user 186 64.77 avg: 0.35 iter/sec \n",
      "user 187 64.85 avg: 0.35 iter/sec \n",
      "user 188 64.95 avg: 0.35 iter/sec \n",
      "user 189 65.03 avg: 0.34 iter/sec \n",
      "user 190 65.19 avg: 0.34 iter/sec \n",
      "user 191 65.68 avg: 0.34 iter/sec \n",
      "user 192 65.73 avg: 0.34 iter/sec \n",
      "user 193 65.81 avg: 0.34 iter/sec \n",
      "user 194 65.89 avg: 0.34 iter/sec \n",
      "user 195 66.31 avg: 0.34 iter/sec \n",
      "user 196 66.57 avg: 0.34 iter/sec \n",
      "user 197 66.62 avg: 0.34 iter/sec \n",
      "user 198 68.53 avg: 0.35 iter/sec \n",
      "user 199 71.12 avg: 0.36 iter/sec \n",
      "user 200 71.24 avg: 0.36 iter/sec \n",
      "user 201 71.62 avg: 0.36 iter/sec \n",
      "user 202 72.72 avg: 0.36 iter/sec \n",
      "user 203 73.06 avg: 0.36 iter/sec \n",
      "user 204 73.14 avg: 0.36 iter/sec \n",
      "user 205 73.40 avg: 0.36 iter/sec \n",
      "user 206 73.81 avg: 0.36 iter/sec \n",
      "user 207 73.97 avg: 0.36 iter/sec \n",
      "user 208 74.02 avg: 0.36 iter/sec \n",
      "user 209 74.08 avg: 0.35 iter/sec \n",
      "user 210 74.13 avg: 0.35 iter/sec \n",
      "user 211 74.36 avg: 0.35 iter/sec \n",
      "user 212 74.63 avg: 0.35 iter/sec \n",
      "user 213 74.75 avg: 0.35 iter/sec \n",
      "user 214 74.86 avg: 0.35 iter/sec \n",
      "user 215 75.20 avg: 0.35 iter/sec \n",
      "user 216 75.38 avg: 0.35 iter/sec \n",
      "user 217 75.47 avg: 0.35 iter/sec \n",
      "user 218 75.84 avg: 0.35 iter/sec \n",
      "user 219 76.39 avg: 0.35 iter/sec \n",
      "user 220 78.47 avg: 0.36 iter/sec \n",
      "user 221 79.79 avg: 0.36 iter/sec \n",
      "user 222 81.03 avg: 0.36 iter/sec \n",
      "user 223 81.48 avg: 0.37 iter/sec \n",
      "user 224 81.90 avg: 0.37 iter/sec \n",
      "user 225 82.04 avg: 0.36 iter/sec \n",
      "user 226 82.16 avg: 0.36 iter/sec \n",
      "user 227 82.48 avg: 0.36 iter/sec \n",
      "user 228 83.04 avg: 0.36 iter/sec \n",
      "user 229 83.21 avg: 0.36 iter/sec \n",
      "user 230 83.33 avg: 0.36 iter/sec \n",
      "user 231 83.41 avg: 0.36 iter/sec \n",
      "user 232 83.48 avg: 0.36 iter/sec \n",
      "user 233 83.61 avg: 0.36 iter/sec \n",
      "user 234 84.36 avg: 0.36 iter/sec \n",
      "user 235 84.47 avg: 0.36 iter/sec \n",
      "user 236 84.54 avg: 0.36 iter/sec \n",
      "user 237 84.89 avg: 0.36 iter/sec \n",
      "user 238 84.96 avg: 0.36 iter/sec \n",
      "user 239 85.04 avg: 0.36 iter/sec \n"
     ]
    },
    {
     "name": "stdout",
     "output_type": "stream",
     "text": [
      "user 240 85.89 avg: 0.36 iter/sec \n",
      "user 241 86.23 avg: 0.36 iter/sec \n",
      "user 242 88.10 avg: 0.36 iter/sec \n",
      "user 243 89.17 avg: 0.37 iter/sec \n",
      "user 244 89.55 avg: 0.37 iter/sec \n",
      "user 245 89.68 avg: 0.37 iter/sec \n",
      "user 246 90.07 avg: 0.37 iter/sec \n",
      "user 247 90.30 avg: 0.37 iter/sec \n",
      "user 248 91.98 avg: 0.37 iter/sec \n",
      "user 249 92.03 avg: 0.37 iter/sec \n",
      "user 250 92.11 avg: 0.37 iter/sec \n",
      "user 251 92.54 avg: 0.37 iter/sec \n",
      "user 252 92.87 avg: 0.37 iter/sec \n",
      "user 253 92.95 avg: 0.37 iter/sec \n",
      "user 254 93.03 avg: 0.37 iter/sec \n",
      "user 255 93.11 avg: 0.37 iter/sec \n",
      "user 256 93.16 avg: 0.36 iter/sec \n",
      "user 257 93.34 avg: 0.36 iter/sec \n",
      "user 258 93.42 avg: 0.36 iter/sec \n",
      "user 259 93.57 avg: 0.36 iter/sec \n",
      "user 260 93.65 avg: 0.36 iter/sec \n",
      "user 261 94.07 avg: 0.36 iter/sec \n",
      "user 262 94.58 avg: 0.36 iter/sec \n",
      "user 263 95.77 avg: 0.36 iter/sec \n",
      "user 264 97.02 avg: 0.37 iter/sec \n",
      "user 265 98.47 avg: 0.37 iter/sec \n",
      "user 266 98.54 avg: 0.37 iter/sec \n",
      "user 267 99.19 avg: 0.37 iter/sec \n",
      "user 268 99.68 avg: 0.37 iter/sec \n",
      "user 269 99.75 avg: 0.37 iter/sec \n",
      "user 270 100.83 avg: 0.37 iter/sec \n",
      "user 271 101.20 avg: 0.37 iter/sec \n",
      "user 272 101.24 avg: 0.37 iter/sec \n",
      "user 273 101.61 avg: 0.37 iter/sec \n",
      "user 274 101.72 avg: 0.37 iter/sec \n",
      "user 275 101.80 avg: 0.37 iter/sec \n",
      "user 276 102.01 avg: 0.37 iter/sec \n",
      "user 277 102.59 avg: 0.37 iter/sec \n",
      "user 278 102.73 avg: 0.37 iter/sec \n",
      "user 279 102.78 avg: 0.37 iter/sec \n",
      "user 280 102.93 avg: 0.37 iter/sec \n",
      "user 281 103.00 avg: 0.37 iter/sec \n",
      "user 282 103.08 avg: 0.37 iter/sec \n",
      "user 283 103.33 avg: 0.37 iter/sec \n",
      "user 284 103.65 avg: 0.36 iter/sec \n",
      "user 285 103.92 avg: 0.36 iter/sec \n",
      "user 286 105.44 avg: 0.37 iter/sec \n",
      "user 287 107.62 avg: 0.37 iter/sec \n",
      "user 288 107.94 avg: 0.37 iter/sec \n",
      "user 289 108.18 avg: 0.37 iter/sec \n",
      "user 290 108.75 avg: 0.37 iter/sec \n",
      "user 291 109.74 avg: 0.38 iter/sec \n",
      "user 292 109.79 avg: 0.38 iter/sec \n",
      "user 293 110.09 avg: 0.38 iter/sec \n",
      "user 294 110.21 avg: 0.37 iter/sec \n",
      "user 295 110.34 avg: 0.37 iter/sec \n",
      "user 296 110.70 avg: 0.37 iter/sec \n",
      "user 297 110.80 avg: 0.37 iter/sec \n",
      "user 298 110.92 avg: 0.37 iter/sec \n",
      "user 299 111.08 avg: 0.37 iter/sec \n",
      "user 300 111.46 avg: 0.37 iter/sec \n",
      "user 301 111.53 avg: 0.37 iter/sec \n",
      "user 302 111.61 avg: 0.37 iter/sec \n",
      "user 303 111.84 avg: 0.37 iter/sec \n",
      "user 304 112.15 avg: 0.37 iter/sec \n",
      "user 305 112.51 avg: 0.37 iter/sec \n",
      "user 306 112.91 avg: 0.37 iter/sec \n",
      "user 307 113.79 avg: 0.37 iter/sec \n",
      "user 308 114.56 avg: 0.37 iter/sec \n",
      "user 309 115.86 avg: 0.37 iter/sec \n",
      "user 310 116.47 avg: 0.38 iter/sec \n",
      "user 311 117.17 avg: 0.38 iter/sec \n",
      "user 312 117.76 avg: 0.38 iter/sec \n",
      "user 313 119.37 avg: 0.38 iter/sec \n",
      "user 314 119.49 avg: 0.38 iter/sec \n",
      "user 315 119.54 avg: 0.38 iter/sec \n",
      "user 316 119.64 avg: 0.38 iter/sec \n",
      "user 317 119.72 avg: 0.38 iter/sec \n",
      "user 318 119.73 avg: 0.38 iter/sec \n",
      "user 319 119.82 avg: 0.38 iter/sec \n",
      "user 320 119.91 avg: 0.37 iter/sec \n",
      "user 321 120.02 avg: 0.37 iter/sec \n",
      "user 322 120.23 avg: 0.37 iter/sec \n",
      "user 323 120.31 avg: 0.37 iter/sec \n",
      "user 324 120.40 avg: 0.37 iter/sec \n",
      "user 325 120.95 avg: 0.37 iter/sec \n",
      "user 326 121.62 avg: 0.37 iter/sec \n",
      "user 327 122.03 avg: 0.37 iter/sec \n",
      "user 328 122.17 avg: 0.37 iter/sec \n",
      "user 329 122.56 avg: 0.37 iter/sec \n",
      "user 330 122.92 avg: 0.37 iter/sec \n",
      "user 331 124.26 avg: 0.38 iter/sec \n",
      "user 332 124.83 avg: 0.38 iter/sec \n",
      "user 333 126.60 avg: 0.38 iter/sec \n",
      "user 334 127.01 avg: 0.38 iter/sec \n",
      "user 335 127.71 avg: 0.38 iter/sec \n",
      "user 336 127.90 avg: 0.38 iter/sec \n",
      "user 337 128.01 avg: 0.38 iter/sec \n",
      "user 338 128.09 avg: 0.38 iter/sec \n",
      "user 339 128.29 avg: 0.38 iter/sec \n",
      "user 340 128.43 avg: 0.38 iter/sec \n",
      "user 341 128.56 avg: 0.38 iter/sec \n",
      "user 342 128.87 avg: 0.38 iter/sec \n",
      "user 343 129.00 avg: 0.38 iter/sec \n",
      "user 344 129.40 avg: 0.38 iter/sec \n",
      "user 345 129.72 avg: 0.38 iter/sec \n",
      "user 346 130.14 avg: 0.38 iter/sec \n",
      "user 347 130.51 avg: 0.38 iter/sec \n",
      "user 348 131.32 avg: 0.38 iter/sec \n",
      "user 349 131.37 avg: 0.38 iter/sec \n",
      "user 350 131.49 avg: 0.38 iter/sec \n",
      "user 351 132.48 avg: 0.38 iter/sec \n",
      "user 352 132.59 avg: 0.38 iter/sec \n",
      "user 353 133.65 avg: 0.38 iter/sec \n",
      "user 354 133.70 avg: 0.38 iter/sec \n",
      "user 355 135.24 avg: 0.38 iter/sec \n",
      "user 356 135.58 avg: 0.38 iter/sec \n",
      "user 357 135.75 avg: 0.38 iter/sec \n",
      "user 358 136.32 avg: 0.38 iter/sec \n",
      "user 359 136.43 avg: 0.38 iter/sec \n",
      "user 360 136.57 avg: 0.38 iter/sec \n",
      "user 361 136.68 avg: 0.38 iter/sec \n",
      "user 362 136.84 avg: 0.38 iter/sec \n",
      "user 363 137.69 avg: 0.38 iter/sec \n",
      "user 364 137.80 avg: 0.38 iter/sec \n",
      "user 365 138.38 avg: 0.38 iter/sec \n",
      "user 366 139.13 avg: 0.38 iter/sec \n",
      "user 367 139.39 avg: 0.38 iter/sec \n",
      "user 368 139.44 avg: 0.38 iter/sec \n",
      "user 369 139.76 avg: 0.38 iter/sec \n",
      "user 370 140.58 avg: 0.38 iter/sec \n",
      "user 371 140.69 avg: 0.38 iter/sec \n",
      "user 372 140.86 avg: 0.38 iter/sec \n",
      "user 373 141.37 avg: 0.38 iter/sec \n",
      "user 374 141.55 avg: 0.38 iter/sec \n",
      "user 375 142.03 avg: 0.38 iter/sec \n",
      "user 376 142.37 avg: 0.38 iter/sec \n",
      "user 377 144.37 avg: 0.38 iter/sec \n",
      "user 378 144.47 avg: 0.38 iter/sec \n",
      "user 379 144.52 avg: 0.38 iter/sec \n",
      "user 380 144.84 avg: 0.38 iter/sec \n",
      "user 381 145.32 avg: 0.38 iter/sec \n",
      "user 382 145.78 avg: 0.38 iter/sec \n",
      "user 383 146.09 avg: 0.38 iter/sec \n",
      "user 384 146.56 avg: 0.38 iter/sec \n",
      "user 385 146.68 avg: 0.38 iter/sec \n",
      "user 386 146.76 avg: 0.38 iter/sec \n",
      "user 387 147.40 avg: 0.38 iter/sec \n",
      "user 388 147.88 avg: 0.38 iter/sec \n",
      "user 389 148.76 avg: 0.38 iter/sec \n",
      "user 390 148.81 avg: 0.38 iter/sec \n",
      "user 391 149.06 avg: 0.38 iter/sec \n",
      "user 392 149.22 avg: 0.38 iter/sec \n",
      "user 393 149.46 avg: 0.38 iter/sec \n",
      "user 394 149.67 avg: 0.38 iter/sec \n",
      "user 395 150.02 avg: 0.38 iter/sec \n",
      "user 396 151.79 avg: 0.38 iter/sec \n",
      "user 397 151.86 avg: 0.38 iter/sec \n",
      "user 398 152.06 avg: 0.38 iter/sec \n",
      "user 399 153.42 avg: 0.38 iter/sec \n",
      "user 400 153.59 avg: 0.38 iter/sec \n",
      "user 401 153.75 avg: 0.38 iter/sec \n",
      "user 402 154.15 avg: 0.38 iter/sec \n",
      "user 403 154.85 avg: 0.38 iter/sec \n",
      "user 404 155.27 avg: 0.38 iter/sec \n",
      "user 405 155.35 avg: 0.38 iter/sec \n",
      "user 406 156.25 avg: 0.38 iter/sec \n",
      "user 407 156.34 avg: 0.38 iter/sec \n",
      "user 408 156.99 avg: 0.38 iter/sec \n",
      "user 409 157.53 avg: 0.39 iter/sec \n",
      "user 410 157.61 avg: 0.38 iter/sec \n",
      "user 411 157.68 avg: 0.38 iter/sec \n",
      "user 412 158.22 avg: 0.38 iter/sec \n",
      "user 413 158.59 avg: 0.38 iter/sec \n",
      "user 414 158.64 avg: 0.38 iter/sec \n",
      "user 415 158.69 avg: 0.38 iter/sec \n",
      "user 416 158.82 avg: 0.38 iter/sec \n",
      "user 417 159.77 avg: 0.38 iter/sec \n",
      "user 418 159.96 avg: 0.38 iter/sec \n",
      "user 419 160.29 avg: 0.38 iter/sec \n",
      "user 420 162.71 avg: 0.39 iter/sec \n",
      "user 421 162.96 avg: 0.39 iter/sec \n",
      "user 422 163.07 avg: 0.39 iter/sec \n",
      "user 423 163.87 avg: 0.39 iter/sec \n",
      "user 424 163.95 avg: 0.39 iter/sec \n",
      "user 425 164.63 avg: 0.39 iter/sec \n",
      "user 426 164.75 avg: 0.39 iter/sec \n",
      "user 427 164.84 avg: 0.39 iter/sec \n",
      "user 428 165.40 avg: 0.39 iter/sec \n",
      "user 429 165.72 avg: 0.39 iter/sec \n",
      "user 430 166.25 avg: 0.39 iter/sec \n",
      "user 431 166.33 avg: 0.39 iter/sec \n",
      "user 432 166.69 avg: 0.39 iter/sec \n",
      "user 433 166.77 avg: 0.39 iter/sec \n",
      "user 434 166.96 avg: 0.38 iter/sec \n",
      "user 435 167.08 avg: 0.38 iter/sec \n",
      "user 436 167.60 avg: 0.38 iter/sec \n",
      "user 437 168.44 avg: 0.39 iter/sec \n",
      "user 438 168.67 avg: 0.39 iter/sec \n",
      "user 439 168.74 avg: 0.38 iter/sec \n",
      "user 440 169.54 avg: 0.39 iter/sec \n",
      "user 441 170.30 avg: 0.39 iter/sec \n",
      "user 442 170.94 avg: 0.39 iter/sec \n",
      "user 443 171.51 avg: 0.39 iter/sec \n",
      "user 444 171.74 avg: 0.39 iter/sec \n",
      "user 445 171.84 avg: 0.39 iter/sec \n",
      "user 446 173.20 avg: 0.39 iter/sec \n",
      "user 447 173.51 avg: 0.39 iter/sec \n",
      "user 448 173.88 avg: 0.39 iter/sec \n",
      "user 449 173.96 avg: 0.39 iter/sec \n",
      "user 450 174.35 avg: 0.39 iter/sec \n",
      "user 451 174.43 avg: 0.39 iter/sec \n",
      "user 452 175.06 avg: 0.39 iter/sec \n",
      "user 453 175.24 avg: 0.39 iter/sec \n",
      "user 454 175.36 avg: 0.39 iter/sec \n",
      "user 455 175.74 avg: 0.39 iter/sec \n",
      "user 456 175.95 avg: 0.39 iter/sec \n",
      "user 457 176.50 avg: 0.39 iter/sec \n",
      "user 458 177.78 avg: 0.39 iter/sec \n",
      "user 459 177.86 avg: 0.39 iter/sec \n",
      "user 460 177.91 avg: 0.39 iter/sec \n",
      "user 461 178.28 avg: 0.39 iter/sec \n",
      "user 462 179.16 avg: 0.39 iter/sec \n",
      "user 463 179.27 avg: 0.39 iter/sec \n",
      "user 464 179.33 avg: 0.39 iter/sec \n",
      "user 465 180.40 avg: 0.39 iter/sec \n",
      "user 466 180.70 avg: 0.39 iter/sec \n",
      "user 467 180.78 avg: 0.39 iter/sec \n",
      "user 468 181.93 avg: 0.39 iter/sec \n",
      "user 469 181.99 avg: 0.39 iter/sec \n"
     ]
    },
    {
     "name": "stdout",
     "output_type": "stream",
     "text": [
      "user 470 182.45 avg: 0.39 iter/sec \n",
      "user 471 182.50 avg: 0.39 iter/sec \n",
      "user 472 182.58 avg: 0.39 iter/sec \n",
      "user 473 183.76 avg: 0.39 iter/sec \n",
      "user 474 183.89 avg: 0.39 iter/sec \n",
      "user 475 184.14 avg: 0.39 iter/sec \n",
      "user 476 184.19 avg: 0.39 iter/sec \n",
      "user 477 185.29 avg: 0.39 iter/sec \n",
      "user 478 185.72 avg: 0.39 iter/sec \n",
      "user 479 185.77 avg: 0.39 iter/sec \n",
      "user 480 186.21 avg: 0.39 iter/sec \n",
      "user 481 186.22 avg: 0.39 iter/sec \n",
      "user 482 186.64 avg: 0.39 iter/sec \n",
      "user 483 187.58 avg: 0.39 iter/sec \n",
      "user 484 187.67 avg: 0.39 iter/sec \n",
      "user 485 188.94 avg: 0.39 iter/sec \n",
      "user 486 189.28 avg: 0.39 iter/sec \n",
      "user 487 189.33 avg: 0.39 iter/sec \n",
      "user 488 189.55 avg: 0.39 iter/sec \n",
      "user 489 190.24 avg: 0.39 iter/sec \n",
      "user 490 190.32 avg: 0.39 iter/sec \n",
      "user 491 191.03 avg: 0.39 iter/sec \n",
      "user 492 191.14 avg: 0.39 iter/sec \n",
      "user 493 191.73 avg: 0.39 iter/sec \n",
      "user 494 192.26 avg: 0.39 iter/sec \n",
      "user 495 192.48 avg: 0.39 iter/sec \n",
      "user 496 192.99 avg: 0.39 iter/sec \n",
      "user 497 193.32 avg: 0.39 iter/sec \n",
      "user 498 193.73 avg: 0.39 iter/sec \n",
      "user 499 194.49 avg: 0.39 iter/sec \n",
      "user 500 194.98 avg: 0.39 iter/sec \n",
      "user 501 195.21 avg: 0.39 iter/sec \n",
      "user 502 195.36 avg: 0.39 iter/sec \n",
      "user 503 195.44 avg: 0.39 iter/sec \n",
      "user 504 195.49 avg: 0.39 iter/sec \n",
      "user 505 195.99 avg: 0.39 iter/sec \n",
      "user 506 196.37 avg: 0.39 iter/sec \n",
      "user 507 197.59 avg: 0.39 iter/sec \n",
      "user 508 197.65 avg: 0.39 iter/sec \n",
      "user 509 198.98 avg: 0.39 iter/sec \n",
      "user 510 199.06 avg: 0.39 iter/sec \n",
      "user 511 199.68 avg: 0.39 iter/sec \n",
      "user 512 199.91 avg: 0.39 iter/sec \n",
      "user 513 200.24 avg: 0.39 iter/sec \n",
      "user 514 200.33 avg: 0.39 iter/sec \n",
      "user 515 200.68 avg: 0.39 iter/sec \n",
      "user 516 200.96 avg: 0.39 iter/sec \n",
      "user 517 201.29 avg: 0.39 iter/sec \n",
      "user 518 201.42 avg: 0.39 iter/sec \n",
      "user 519 202.03 avg: 0.39 iter/sec \n",
      "user 520 203.11 avg: 0.39 iter/sec \n",
      "user 521 203.42 avg: 0.39 iter/sec \n",
      "user 522 203.97 avg: 0.39 iter/sec \n",
      "user 523 204.50 avg: 0.39 iter/sec \n",
      "user 524 204.73 avg: 0.39 iter/sec \n",
      "user 525 204.86 avg: 0.39 iter/sec \n",
      "user 526 205.47 avg: 0.39 iter/sec \n",
      "user 527 205.88 avg: 0.39 iter/sec \n",
      "user 528 206.17 avg: 0.39 iter/sec \n",
      "user 529 207.07 avg: 0.39 iter/sec \n",
      "user 530 207.65 avg: 0.39 iter/sec \n",
      "user 531 208.03 avg: 0.39 iter/sec \n",
      "user 532 208.18 avg: 0.39 iter/sec \n",
      "user 533 208.82 avg: 0.39 iter/sec \n",
      "user 534 209.05 avg: 0.39 iter/sec \n",
      "user 535 209.66 avg: 0.39 iter/sec \n",
      "user 536 209.88 avg: 0.39 iter/sec \n",
      "user 537 210.10 avg: 0.39 iter/sec \n",
      "user 538 210.40 avg: 0.39 iter/sec \n",
      "user 539 210.59 avg: 0.39 iter/sec \n",
      "user 540 211.12 avg: 0.39 iter/sec \n",
      "user 541 211.99 avg: 0.39 iter/sec \n",
      "user 542 212.95 avg: 0.39 iter/sec \n",
      "user 543 213.03 avg: 0.39 iter/sec \n",
      "user 544 213.11 avg: 0.39 iter/sec \n",
      "user 545 213.78 avg: 0.39 iter/sec \n",
      "user 546 214.09 avg: 0.39 iter/sec \n",
      "user 547 214.54 avg: 0.39 iter/sec \n",
      "user 548 215.32 avg: 0.39 iter/sec \n",
      "user 549 215.43 avg: 0.39 iter/sec \n",
      "user 550 215.70 avg: 0.39 iter/sec \n",
      "user 551 216.67 avg: 0.39 iter/sec \n",
      "user 552 216.93 avg: 0.39 iter/sec \n",
      "user 553 216.99 avg: 0.39 iter/sec \n",
      "user 554 217.06 avg: 0.39 iter/sec \n",
      "user 555 217.24 avg: 0.39 iter/sec \n",
      "user 556 217.32 avg: 0.39 iter/sec \n",
      "user 557 217.80 avg: 0.39 iter/sec \n",
      "user 558 218.85 avg: 0.39 iter/sec \n",
      "user 559 219.03 avg: 0.39 iter/sec \n",
      "user 560 219.92 avg: 0.39 iter/sec \n",
      "user 561 220.35 avg: 0.39 iter/sec \n",
      "user 562 220.42 avg: 0.39 iter/sec \n",
      "user 563 220.51 avg: 0.39 iter/sec \n",
      "user 564 221.16 avg: 0.39 iter/sec \n",
      "user 565 221.60 avg: 0.39 iter/sec \n",
      "user 566 222.01 avg: 0.39 iter/sec \n",
      "user 567 222.86 avg: 0.39 iter/sec \n",
      "user 568 222.94 avg: 0.39 iter/sec \n",
      "user 569 223.08 avg: 0.39 iter/sec \n",
      "user 570 223.78 avg: 0.39 iter/sec \n",
      "user 571 223.94 avg: 0.39 iter/sec \n",
      "user 572 224.97 avg: 0.39 iter/sec \n",
      "user 573 225.04 avg: 0.39 iter/sec \n",
      "user 574 225.21 avg: 0.39 iter/sec \n",
      "user 575 226.09 avg: 0.39 iter/sec \n",
      "user 576 226.13 avg: 0.39 iter/sec \n",
      "user 577 226.56 avg: 0.39 iter/sec \n",
      "user 578 226.87 avg: 0.39 iter/sec \n",
      "user 579 227.10 avg: 0.39 iter/sec \n",
      "user 580 227.31 avg: 0.39 iter/sec \n",
      "user 581 227.39 avg: 0.39 iter/sec \n",
      "user 582 228.82 avg: 0.39 iter/sec \n",
      "user 583 229.01 avg: 0.39 iter/sec \n",
      "user 584 229.45 avg: 0.39 iter/sec \n",
      "user 585 229.52 avg: 0.39 iter/sec \n",
      "user 586 229.62 avg: 0.39 iter/sec \n",
      "user 587 230.43 avg: 0.39 iter/sec \n",
      "user 588 230.59 avg: 0.39 iter/sec \n",
      "user 589 232.01 avg: 0.39 iter/sec \n",
      "user 590 232.08 avg: 0.39 iter/sec \n",
      "user 591 232.67 avg: 0.39 iter/sec \n",
      "user 592 232.91 avg: 0.39 iter/sec \n",
      "user 593 233.03 avg: 0.39 iter/sec \n",
      "user 594 233.42 avg: 0.39 iter/sec \n",
      "user 595 234.35 avg: 0.39 iter/sec \n",
      "user 596 234.72 avg: 0.39 iter/sec \n",
      "user 597 235.20 avg: 0.39 iter/sec \n",
      "user 598 235.58 avg: 0.39 iter/sec \n",
      "user 599 235.70 avg: 0.39 iter/sec \n",
      "user 600 236.09 avg: 0.39 iter/sec \n",
      "user 601 236.93 avg: 0.39 iter/sec \n",
      "user 602 237.01 avg: 0.39 iter/sec \n",
      "user 603 237.16 avg: 0.39 iter/sec \n",
      "user 604 237.74 avg: 0.39 iter/sec \n",
      "user 605 237.82 avg: 0.39 iter/sec \n",
      "user 606 238.29 avg: 0.39 iter/sec \n",
      "user 607 239.07 avg: 0.39 iter/sec \n",
      "user 608 239.13 avg: 0.39 iter/sec \n",
      "user 609 239.43 avg: 0.39 iter/sec \n",
      "user 610 239.65 avg: 0.39 iter/sec \n",
      "user 611 240.65 avg: 0.39 iter/sec \n",
      "user 612 241.19 avg: 0.39 iter/sec \n",
      "user 613 242.33 avg: 0.40 iter/sec \n",
      "user 614 242.41 avg: 0.39 iter/sec \n",
      "user 615 242.71 avg: 0.39 iter/sec \n",
      "user 616 243.67 avg: 0.40 iter/sec \n",
      "user 617 243.99 avg: 0.40 iter/sec \n",
      "user 618 244.08 avg: 0.39 iter/sec \n",
      "user 619 244.21 avg: 0.39 iter/sec \n",
      "user 620 244.63 avg: 0.39 iter/sec \n",
      "user 621 244.72 avg: 0.39 iter/sec \n",
      "user 622 244.98 avg: 0.39 iter/sec \n",
      "user 623 245.70 avg: 0.39 iter/sec \n",
      "user 624 245.83 avg: 0.39 iter/sec \n",
      "user 625 246.75 avg: 0.39 iter/sec \n",
      "user 626 246.89 avg: 0.39 iter/sec \n",
      "user 627 247.15 avg: 0.39 iter/sec \n",
      "user 628 247.80 avg: 0.39 iter/sec \n",
      "user 629 247.87 avg: 0.39 iter/sec \n",
      "user 630 248.40 avg: 0.39 iter/sec \n",
      "user 631 249.09 avg: 0.39 iter/sec \n",
      "user 632 249.40 avg: 0.39 iter/sec \n",
      "user 633 249.59 avg: 0.39 iter/sec \n",
      "user 634 249.98 avg: 0.39 iter/sec \n",
      "user 635 250.12 avg: 0.39 iter/sec \n",
      "user 636 252.00 avg: 0.40 iter/sec \n",
      "user 637 252.14 avg: 0.40 iter/sec \n",
      "user 638 252.55 avg: 0.40 iter/sec \n",
      "user 639 252.81 avg: 0.40 iter/sec \n",
      "user 640 253.43 avg: 0.40 iter/sec \n",
      "user 641 253.51 avg: 0.40 iter/sec \n",
      "user 642 253.88 avg: 0.40 iter/sec \n",
      "user 643 254.28 avg: 0.40 iter/sec \n",
      "user 644 254.60 avg: 0.40 iter/sec \n",
      "user 645 255.42 avg: 0.40 iter/sec \n",
      "user 646 256.23 avg: 0.40 iter/sec \n",
      "user 647 256.43 avg: 0.40 iter/sec \n",
      "user 648 256.74 avg: 0.40 iter/sec \n",
      "user 649 256.79 avg: 0.40 iter/sec \n",
      "user 650 257.00 avg: 0.40 iter/sec \n",
      "user 651 257.74 avg: 0.40 iter/sec \n",
      "user 652 257.79 avg: 0.40 iter/sec \n",
      "user 653 257.94 avg: 0.40 iter/sec \n",
      "user 654 258.42 avg: 0.40 iter/sec \n",
      "user 655 259.03 avg: 0.40 iter/sec \n",
      "user 656 259.68 avg: 0.40 iter/sec \n",
      "user 657 259.87 avg: 0.40 iter/sec \n",
      "user 658 261.46 avg: 0.40 iter/sec \n",
      "user 659 262.05 avg: 0.40 iter/sec \n",
      "user 660 262.13 avg: 0.40 iter/sec \n",
      "user 661 262.29 avg: 0.40 iter/sec \n",
      "user 662 262.94 avg: 0.40 iter/sec \n",
      "user 663 263.26 avg: 0.40 iter/sec \n",
      "user 664 263.49 avg: 0.40 iter/sec \n",
      "user 665 263.59 avg: 0.40 iter/sec \n",
      "user 666 264.25 avg: 0.40 iter/sec \n",
      "user 667 264.68 avg: 0.40 iter/sec \n",
      "user 668 265.66 avg: 0.40 iter/sec \n",
      "user 669 265.78 avg: 0.40 iter/sec \n",
      "user 670 266.11 avg: 0.40 iter/sec \n",
      "user 671 266.59 avg: 0.40 iter/sec \n",
      "user 672 266.88 avg: 0.40 iter/sec \n",
      "user 673 266.93 avg: 0.40 iter/sec \n",
      "user 674 266.99 avg: 0.40 iter/sec \n",
      "user 675 267.10 avg: 0.40 iter/sec \n",
      "user 676 267.41 avg: 0.40 iter/sec \n",
      "user 677 268.51 avg: 0.40 iter/sec \n",
      "user 678 268.59 avg: 0.40 iter/sec \n",
      "user 679 269.62 avg: 0.40 iter/sec \n",
      "user 680 270.58 avg: 0.40 iter/sec \n",
      "user 681 271.35 avg: 0.40 iter/sec \n",
      "user 682 271.57 avg: 0.40 iter/sec \n",
      "user 683 271.63 avg: 0.40 iter/sec \n",
      "user 684 271.88 avg: 0.40 iter/sec \n",
      "user 685 272.04 avg: 0.40 iter/sec \n",
      "user 686 272.28 avg: 0.40 iter/sec \n",
      "user 687 273.02 avg: 0.40 iter/sec \n",
      "user 688 273.26 avg: 0.40 iter/sec \n",
      "user 689 273.74 avg: 0.40 iter/sec \n",
      "user 690 274.92 avg: 0.40 iter/sec \n",
      "user 691 275.06 avg: 0.40 iter/sec \n",
      "user 692 275.24 avg: 0.40 iter/sec \n",
      "user 693 275.48 avg: 0.40 iter/sec \n",
      "user 694 275.55 avg: 0.40 iter/sec \n",
      "user 695 275.98 avg: 0.40 iter/sec \n",
      "user 696 277.03 avg: 0.40 iter/sec \n",
      "user 697 277.16 avg: 0.40 iter/sec \n"
     ]
    },
    {
     "name": "stdout",
     "output_type": "stream",
     "text": [
      "user 698 277.23 avg: 0.40 iter/sec \n",
      "user 699 277.34 avg: 0.40 iter/sec \n",
      "user 700 277.77 avg: 0.40 iter/sec \n",
      "user 701 277.90 avg: 0.40 iter/sec \n",
      "user 702 280.01 avg: 0.40 iter/sec \n",
      "user 703 280.49 avg: 0.40 iter/sec \n",
      "user 704 281.03 avg: 0.40 iter/sec \n",
      "user 705 281.26 avg: 0.40 iter/sec \n",
      "user 706 281.36 avg: 0.40 iter/sec \n",
      "user 707 281.41 avg: 0.40 iter/sec \n",
      "user 708 281.82 avg: 0.40 iter/sec \n",
      "user 709 281.98 avg: 0.40 iter/sec \n",
      "user 710 282.55 avg: 0.40 iter/sec \n",
      "user 711 282.80 avg: 0.40 iter/sec \n",
      "user 712 283.49 avg: 0.40 iter/sec \n",
      "user 713 283.56 avg: 0.40 iter/sec \n",
      "user 714 283.61 avg: 0.40 iter/sec \n",
      "user 715 283.96 avg: 0.40 iter/sec \n",
      "user 716 284.25 avg: 0.40 iter/sec \n",
      "user 717 284.93 avg: 0.40 iter/sec \n",
      "user 718 286.00 avg: 0.40 iter/sec \n",
      "user 719 286.07 avg: 0.40 iter/sec \n",
      "user 720 286.57 avg: 0.40 iter/sec \n",
      "user 721 286.82 avg: 0.40 iter/sec \n",
      "user 722 287.52 avg: 0.40 iter/sec \n",
      "user 723 287.79 avg: 0.40 iter/sec \n",
      "user 724 287.87 avg: 0.40 iter/sec \n",
      "user 725 288.98 avg: 0.40 iter/sec \n",
      "user 726 289.81 avg: 0.40 iter/sec \n",
      "user 727 290.09 avg: 0.40 iter/sec \n",
      "user 728 290.51 avg: 0.40 iter/sec \n",
      "user 729 290.59 avg: 0.40 iter/sec \n",
      "user 730 290.72 avg: 0.40 iter/sec \n",
      "user 731 291.46 avg: 0.40 iter/sec \n",
      "user 732 291.61 avg: 0.40 iter/sec \n",
      "user 733 291.66 avg: 0.40 iter/sec \n",
      "user 734 291.74 avg: 0.40 iter/sec \n",
      "user 735 292.02 avg: 0.40 iter/sec \n",
      "user 736 292.09 avg: 0.40 iter/sec \n",
      "user 737 292.36 avg: 0.40 iter/sec \n",
      "user 738 293.06 avg: 0.40 iter/sec \n",
      "user 739 293.72 avg: 0.40 iter/sec \n",
      "user 740 293.94 avg: 0.40 iter/sec \n",
      "user 741 294.55 avg: 0.40 iter/sec \n",
      "user 742 294.83 avg: 0.40 iter/sec \n",
      "user 743 295.71 avg: 0.40 iter/sec \n",
      "user 744 296.16 avg: 0.40 iter/sec \n",
      "user 745 297.40 avg: 0.40 iter/sec \n",
      "user 746 297.52 avg: 0.40 iter/sec \n",
      "user 747 298.01 avg: 0.40 iter/sec \n",
      "user 748 298.66 avg: 0.40 iter/sec \n",
      "user 749 299.50 avg: 0.40 iter/sec \n",
      "user 750 299.63 avg: 0.40 iter/sec \n",
      "user 751 299.81 avg: 0.40 iter/sec \n",
      "user 752 299.93 avg: 0.40 iter/sec \n",
      "user 753 300.03 avg: 0.40 iter/sec \n",
      "user 754 300.54 avg: 0.40 iter/sec \n",
      "user 755 301.07 avg: 0.40 iter/sec \n",
      "user 756 301.16 avg: 0.40 iter/sec \n",
      "user 757 301.39 avg: 0.40 iter/sec \n",
      "user 758 301.69 avg: 0.40 iter/sec \n",
      "user 759 301.89 avg: 0.40 iter/sec \n",
      "user 760 302.57 avg: 0.40 iter/sec \n",
      "user 761 302.73 avg: 0.40 iter/sec \n",
      "user 762 302.78 avg: 0.40 iter/sec \n",
      "user 763 303.59 avg: 0.40 iter/sec \n",
      "user 764 304.52 avg: 0.40 iter/sec \n",
      "user 765 304.85 avg: 0.40 iter/sec \n",
      "user 766 305.28 avg: 0.40 iter/sec \n",
      "user 767 305.77 avg: 0.40 iter/sec \n",
      "user 768 306.77 avg: 0.40 iter/sec \n",
      "user 769 307.56 avg: 0.40 iter/sec \n",
      "user 770 307.74 avg: 0.40 iter/sec \n",
      "user 771 307.86 avg: 0.40 iter/sec \n",
      "user 772 308.44 avg: 0.40 iter/sec \n",
      "user 773 309.04 avg: 0.40 iter/sec \n",
      "user 774 309.11 avg: 0.40 iter/sec \n",
      "user 775 309.19 avg: 0.40 iter/sec \n",
      "user 776 309.64 avg: 0.40 iter/sec \n",
      "user 777 309.72 avg: 0.40 iter/sec \n",
      "user 778 309.94 avg: 0.40 iter/sec \n",
      "user 779 310.12 avg: 0.40 iter/sec \n",
      "user 780 310.40 avg: 0.40 iter/sec \n",
      "user 781 311.17 avg: 0.40 iter/sec \n",
      "user 782 311.46 avg: 0.40 iter/sec \n",
      "user 783 312.07 avg: 0.40 iter/sec \n",
      "user 784 312.36 avg: 0.40 iter/sec \n",
      "user 785 312.42 avg: 0.40 iter/sec \n",
      "user 786 313.84 avg: 0.40 iter/sec \n",
      "user 787 314.12 avg: 0.40 iter/sec \n",
      "user 788 314.54 avg: 0.40 iter/sec \n",
      "user 789 315.25 avg: 0.40 iter/sec \n",
      "user 790 316.03 avg: 0.40 iter/sec \n",
      "user 791 316.17 avg: 0.40 iter/sec \n",
      "user 792 316.22 avg: 0.40 iter/sec \n",
      "user 793 316.65 avg: 0.40 iter/sec \n",
      "user 794 316.76 avg: 0.40 iter/sec \n",
      "user 795 317.50 avg: 0.40 iter/sec \n",
      "user 796 318.85 avg: 0.40 iter/sec \n",
      "user 797 319.00 avg: 0.40 iter/sec \n",
      "user 798 319.11 avg: 0.40 iter/sec \n",
      "user 799 319.19 avg: 0.40 iter/sec \n",
      "user 800 319.39 avg: 0.40 iter/sec \n",
      "user 801 319.86 avg: 0.40 iter/sec \n",
      "user 802 319.93 avg: 0.40 iter/sec \n",
      "user 803 320.01 avg: 0.40 iter/sec \n",
      "user 804 320.20 avg: 0.40 iter/sec \n",
      "user 805 320.87 avg: 0.40 iter/sec \n",
      "user 806 321.13 avg: 0.40 iter/sec \n",
      "user 807 321.91 avg: 0.40 iter/sec \n",
      "user 808 322.27 avg: 0.40 iter/sec \n",
      "user 809 323.56 avg: 0.40 iter/sec \n",
      "user 810 323.95 avg: 0.40 iter/sec \n",
      "user 811 324.10 avg: 0.40 iter/sec \n",
      "user 812 324.18 avg: 0.40 iter/sec \n",
      "user 813 324.76 avg: 0.40 iter/sec \n",
      "user 814 325.02 avg: 0.40 iter/sec \n",
      "user 815 325.94 avg: 0.40 iter/sec \n",
      "user 816 326.88 avg: 0.40 iter/sec \n",
      "user 817 327.67 avg: 0.40 iter/sec \n",
      "user 818 327.74 avg: 0.40 iter/sec \n",
      "user 819 328.15 avg: 0.40 iter/sec \n",
      "user 820 328.30 avg: 0.40 iter/sec \n",
      "user 821 328.45 avg: 0.40 iter/sec \n",
      "user 822 328.65 avg: 0.40 iter/sec \n",
      "user 823 328.80 avg: 0.40 iter/sec \n",
      "user 824 328.95 avg: 0.40 iter/sec \n",
      "user 825 329.02 avg: 0.40 iter/sec \n",
      "user 826 329.38 avg: 0.40 iter/sec \n",
      "user 827 329.59 avg: 0.40 iter/sec \n",
      "user 828 330.60 avg: 0.40 iter/sec \n",
      "user 829 330.68 avg: 0.40 iter/sec \n",
      "user 830 330.74 avg: 0.40 iter/sec \n",
      "user 831 332.32 avg: 0.40 iter/sec \n",
      "user 832 333.21 avg: 0.40 iter/sec \n",
      "user 833 333.40 avg: 0.40 iter/sec \n",
      "user 834 333.52 avg: 0.40 iter/sec \n",
      "user 835 333.67 avg: 0.40 iter/sec \n",
      "user 836 333.81 avg: 0.40 iter/sec \n",
      "user 837 334.49 avg: 0.40 iter/sec \n",
      "user 838 335.51 avg: 0.40 iter/sec \n",
      "user 839 336.43 avg: 0.40 iter/sec \n",
      "user 840 336.50 avg: 0.40 iter/sec \n",
      "user 841 336.63 avg: 0.40 iter/sec \n",
      "user 842 336.98 avg: 0.40 iter/sec \n",
      "user 843 337.57 avg: 0.40 iter/sec \n",
      "user 844 337.64 avg: 0.40 iter/sec \n",
      "user 845 337.72 avg: 0.40 iter/sec \n",
      "user 846 337.87 avg: 0.40 iter/sec \n",
      "user 847 338.54 avg: 0.40 iter/sec \n",
      "user 848 338.80 avg: 0.40 iter/sec \n",
      "user 849 338.91 avg: 0.40 iter/sec \n",
      "user 850 340.02 avg: 0.40 iter/sec \n",
      "user 851 340.07 avg: 0.40 iter/sec \n",
      "user 852 340.48 avg: 0.40 iter/sec \n",
      "user 853 341.87 avg: 0.40 iter/sec \n",
      "user 854 342.00 avg: 0.40 iter/sec \n",
      "user 855 342.67 avg: 0.40 iter/sec \n",
      "user 856 343.08 avg: 0.40 iter/sec \n",
      "user 857 343.60 avg: 0.40 iter/sec \n",
      "user 858 343.68 avg: 0.40 iter/sec \n",
      "user 859 343.73 avg: 0.40 iter/sec \n",
      "user 860 344.52 avg: 0.40 iter/sec \n",
      "user 861 344.93 avg: 0.40 iter/sec \n",
      "user 862 345.58 avg: 0.40 iter/sec \n",
      "user 863 346.07 avg: 0.40 iter/sec \n",
      "user 864 346.14 avg: 0.40 iter/sec \n",
      "user 865 346.26 avg: 0.40 iter/sec \n",
      "user 866 346.38 avg: 0.40 iter/sec \n",
      "user 867 346.47 avg: 0.40 iter/sec \n",
      "user 868 347.13 avg: 0.40 iter/sec \n",
      "user 869 347.25 avg: 0.40 iter/sec \n",
      "user 870 347.40 avg: 0.40 iter/sec \n",
      "user 871 347.41 avg: 0.40 iter/sec \n",
      "user 872 347.60 avg: 0.40 iter/sec \n",
      "user 873 349.52 avg: 0.40 iter/sec \n",
      "user 874 350.32 avg: 0.40 iter/sec \n",
      "user 875 352.00 avg: 0.40 iter/sec \n",
      "user 876 352.35 avg: 0.40 iter/sec \n",
      "user 877 352.52 avg: 0.40 iter/sec \n",
      "user 878 352.84 avg: 0.40 iter/sec \n",
      "user 879 352.89 avg: 0.40 iter/sec \n",
      "user 880 353.18 avg: 0.40 iter/sec \n",
      "user 881 353.26 avg: 0.40 iter/sec \n",
      "user 882 353.34 avg: 0.40 iter/sec \n",
      "user 883 353.60 avg: 0.40 iter/sec \n",
      "user 884 354.21 avg: 0.40 iter/sec \n",
      "user 885 354.32 avg: 0.40 iter/sec \n",
      "user 886 354.75 avg: 0.40 iter/sec \n",
      "user 887 355.02 avg: 0.40 iter/sec \n",
      "user 888 355.66 avg: 0.40 iter/sec \n",
      "user 889 356.10 avg: 0.40 iter/sec \n",
      "user 890 356.29 avg: 0.40 iter/sec \n",
      "user 891 356.45 avg: 0.40 iter/sec \n",
      "user 892 356.49 avg: 0.40 iter/sec \n",
      "user 893 356.75 avg: 0.40 iter/sec \n",
      "user 894 357.14 avg: 0.40 iter/sec \n",
      "user 895 357.72 avg: 0.40 iter/sec \n",
      "user 896 358.59 avg: 0.40 iter/sec \n",
      "user 897 360.07 avg: 0.40 iter/sec \n",
      "user 898 361.04 avg: 0.40 iter/sec \n",
      "user 899 361.11 avg: 0.40 iter/sec \n",
      "user 900 361.16 avg: 0.40 iter/sec \n",
      "user 901 361.65 avg: 0.40 iter/sec \n",
      "user 902 362.08 avg: 0.40 iter/sec \n",
      "user 903 362.26 avg: 0.40 iter/sec \n",
      "user 904 362.66 avg: 0.40 iter/sec \n",
      "user 905 362.91 avg: 0.40 iter/sec \n",
      "user 906 363.18 avg: 0.40 iter/sec \n",
      "user 907 363.71 avg: 0.40 iter/sec \n",
      "user 908 364.36 avg: 0.40 iter/sec \n",
      "user 909 364.41 avg: 0.40 iter/sec \n",
      "user 910 364.43 avg: 0.40 iter/sec \n",
      "user 911 365.02 avg: 0.40 iter/sec \n",
      "user 912 365.33 avg: 0.40 iter/sec \n",
      "user 913 365.59 avg: 0.40 iter/sec \n",
      "user 914 365.91 avg: 0.40 iter/sec \n",
      "user 915 366.08 avg: 0.40 iter/sec \n",
      "user 916 366.64 avg: 0.40 iter/sec \n",
      "user 917 367.21 avg: 0.40 iter/sec \n",
      "user 918 368.68 avg: 0.40 iter/sec \n",
      "user 919 369.20 avg: 0.40 iter/sec \n",
      "user 920 369.86 avg: 0.40 iter/sec \n",
      "user 921 369.99 avg: 0.40 iter/sec \n",
      "user 922 370.04 avg: 0.40 iter/sec \n",
      "user 923 370.15 avg: 0.40 iter/sec \n",
      "user 924 371.15 avg: 0.40 iter/sec \n",
      "user 925 371.68 avg: 0.40 iter/sec \n"
     ]
    },
    {
     "name": "stdout",
     "output_type": "stream",
     "text": [
      "user 926 372.08 avg: 0.40 iter/sec \n",
      "user 927 372.13 avg: 0.40 iter/sec \n",
      "user 928 372.18 avg: 0.40 iter/sec \n",
      "user 929 372.38 avg: 0.40 iter/sec \n",
      "user 930 374.09 avg: 0.40 iter/sec \n",
      "user 931 374.13 avg: 0.40 iter/sec \n",
      "user 932 374.22 avg: 0.40 iter/sec \n",
      "user 933 374.41 avg: 0.40 iter/sec \n",
      "user 934 374.72 avg: 0.40 iter/sec \n",
      "user 935 374.80 avg: 0.40 iter/sec \n",
      "user 936 375.18 avg: 0.40 iter/sec \n",
      "user 937 375.39 avg: 0.40 iter/sec \n",
      "user 938 376.15 avg: 0.40 iter/sec \n",
      "user 939 377.35 avg: 0.40 iter/sec \n",
      "user 940 377.48 avg: 0.40 iter/sec \n",
      "user 941 378.40 avg: 0.40 iter/sec \n",
      "user 942 378.64 avg: 0.40 iter/sec \n",
      "user 943 379.15 avg: 0.40 iter/sec \n",
      "user 944 379.28 avg: 0.40 iter/sec \n",
      "user 945 379.37 avg: 0.40 iter/sec \n",
      "user 946 380.06 avg: 0.40 iter/sec \n",
      "user 947 381.16 avg: 0.40 iter/sec \n",
      "user 948 381.24 avg: 0.40 iter/sec \n",
      "user 949 381.41 avg: 0.40 iter/sec \n",
      "user 950 381.87 avg: 0.40 iter/sec \n",
      "user 951 382.56 avg: 0.40 iter/sec \n",
      "user 952 382.63 avg: 0.40 iter/sec \n",
      "user 953 382.88 avg: 0.40 iter/sec \n",
      "user 954 383.00 avg: 0.40 iter/sec \n",
      "user 955 383.26 avg: 0.40 iter/sec \n",
      "user 956 383.74 avg: 0.40 iter/sec \n",
      "user 957 384.03 avg: 0.40 iter/sec \n",
      "user 958 384.88 avg: 0.40 iter/sec \n",
      "user 959 385.19 avg: 0.40 iter/sec \n",
      "user 960 385.74 avg: 0.40 iter/sec \n",
      "user 961 386.68 avg: 0.40 iter/sec \n",
      "user 962 387.16 avg: 0.40 iter/sec \n",
      "user 963 388.14 avg: 0.40 iter/sec \n",
      "user 964 388.34 avg: 0.40 iter/sec \n",
      "user 965 388.42 avg: 0.40 iter/sec \n",
      "user 966 388.47 avg: 0.40 iter/sec \n",
      "user 967 388.61 avg: 0.40 iter/sec \n",
      "user 968 388.66 avg: 0.40 iter/sec \n",
      "user 969 389.75 avg: 0.40 iter/sec \n",
      "user 970 390.23 avg: 0.40 iter/sec \n",
      "user 971 391.08 avg: 0.40 iter/sec \n",
      "user 972 391.16 avg: 0.40 iter/sec \n",
      "user 973 392.26 avg: 0.40 iter/sec \n",
      "user 974 392.55 avg: 0.40 iter/sec \n",
      "user 975 392.59 avg: 0.40 iter/sec \n",
      "user 976 392.69 avg: 0.40 iter/sec \n",
      "user 977 393.12 avg: 0.40 iter/sec \n",
      "user 978 393.35 avg: 0.40 iter/sec \n",
      "user 979 393.81 avg: 0.40 iter/sec \n",
      "user 980 394.12 avg: 0.40 iter/sec \n",
      "user 981 394.36 avg: 0.40 iter/sec \n",
      "user 982 394.55 avg: 0.40 iter/sec \n",
      "user 983 395.39 avg: 0.40 iter/sec \n",
      "user 984 396.54 avg: 0.40 iter/sec \n",
      "user 985 396.79 avg: 0.40 iter/sec \n",
      "user 986 396.87 avg: 0.40 iter/sec \n",
      "user 987 396.95 avg: 0.40 iter/sec \n",
      "user 988 397.03 avg: 0.40 iter/sec \n",
      "user 989 398.06 avg: 0.40 iter/sec \n",
      "user 990 398.16 avg: 0.40 iter/sec \n",
      "user 991 398.77 avg: 0.40 iter/sec \n",
      "user 992 399.63 avg: 0.40 iter/sec \n",
      "user 993 400.09 avg: 0.40 iter/sec \n",
      "user 994 400.66 avg: 0.40 iter/sec \n",
      "user 995 400.83 avg: 0.40 iter/sec \n",
      "user 996 400.94 avg: 0.40 iter/sec \n",
      "user 997 401.36 avg: 0.40 iter/sec \n",
      "user 998 401.45 avg: 0.40 iter/sec \n",
      "user 999 402.05 avg: 0.40 iter/sec \n",
      "user 1000 402.22 avg: 0.40 iter/sec \n",
      "user 1001 402.85 avg: 0.40 iter/sec \n"
     ]
    },
    {
     "data": {
      "application/vnd.jupyter.widget-view+json": {
       "model_id": "3bc31c553aff4438a639ba98c9f5fdbd",
       "version_major": 2,
       "version_minor": 0
      },
      "text/html": [
       "<p>Failed to display Jupyter Widget of type <code>HBox</code>.</p>\n",
       "<p>\n",
       "  If you're reading this message in Jupyter Notebook or JupyterLab, it may mean\n",
       "  that the widgets JavaScript is still loading. If this message persists, it\n",
       "  likely means that the widgets JavaScript library is either not installed or\n",
       "  not enabled. See the <a href=\"https://ipywidgets.readthedocs.io/en/stable/user_install.html\">Jupyter\n",
       "  Widgets Documentation</a> for setup instructions.\n",
       "</p>\n",
       "<p>\n",
       "  If you're reading this message in another notebook frontend (for example, a static\n",
       "  rendering on GitHub or <a href=\"https://nbviewer.jupyter.org/\">NBViewer</a>),\n",
       "  it may mean that your frontend doesn't currently support widgets.\n",
       "</p>\n"
      ],
      "text/plain": [
       "HBox(children=(IntProgress(value=0, max=1000), HTML(value='')))"
      ]
     },
     "metadata": {},
     "output_type": "display_data"
    },
    {
     "name": "stdout",
     "output_type": "stream",
     "text": [
      "\n"
     ]
    },
    {
     "data": {
      "image/png": "[encoded data removed]",
      "text/plain": [
       "<matplotlib.figure.Figure at 0x7f8a7e86bc88>"
      ]
     },
     "metadata": {},
     "output_type": "display_data"
    },
    {
     "data": {
      "application/vnd.jupyter.widget-view+json": {
       "model_id": "2873473e0f2a4eb0b43fdc392aed5cd2",
       "version_major": 2,
       "version_minor": 0
      },
      "text/html": [
       "<p>Failed to display Jupyter Widget of type <code>HBox</code>.</p>\n",
       "<p>\n",
       "  If you're reading this message in Jupyter Notebook or JupyterLab, it may mean\n",
       "  that the widgets JavaScript is still loading. If this message persists, it\n",
       "  likely means that the widgets JavaScript library is either not installed or\n",
       "  not enabled. See the <a href=\"https://ipywidgets.readthedocs.io/en/stable/user_install.html\">Jupyter\n",
       "  Widgets Documentation</a> for setup instructions.\n",
       "</p>\n",
       "<p>\n",
       "  If you're reading this message in another notebook frontend (for example, a static\n",
       "  rendering on GitHub or <a href=\"https://nbviewer.jupyter.org/\">NBViewer</a>),\n",
       "  it may mean that your frontend doesn't currently support widgets.\n",
       "</p>\n"
      ],
      "text/plain": [
       "HBox(children=(IntProgress(value=0, max=1000), HTML(value='')))"
      ]
     },
     "metadata": {},
     "output_type": "display_data"
    },
    {
     "name": "stdout",
     "output_type": "stream",
     "text": [
      "\n"
     ]
    },
    {
     "data": {
      "image/png": "[encoded data removed]",
      "text/plain": [
       "<matplotlib.figure.Figure at 0x7f89bd4569b0>"
      ]
     },
     "metadata": {},
     "output_type": "display_data"
    }
   ],
   "source": [
    "n=1000\n",
    "initial_theta = np.random.random_sample(n)/10\n",
    "alpha = 0.01\n",
    "iterations = 3000\n",
    "colors=['b', 'g', 'r', 'c', 'm', 'y', 'k', 'w']\n",
    "results=aprun(bar='txt')(delayed(Estimate_theta)(df,i,initial_theta[i],alpha,iterations) for i in range(n))\n",
    "for i in tqdm(range(n)):\n",
    "    for j in range(len(results[i])):#range(1):\n",
    "        initial_Theta=init_Theta\n",
    "        plt.plot(i,np.abs(results[i][j][0][-1] - initial_Theta)/ initial_Theta,colors[j]+'o',ms=1)\n",
    "plt.show()\n",
    "for i in tqdm(range(n)):\n",
    "    mean_theta=[]\n",
    "    for j in range(len(results[i])):#range(1):\n",
    "        mean_theta.append(results[i][j][0][-1])\n",
    "    initial_Theta=init_Theta\n",
    "    plt.plot(i,np.abs(np.mean(mean_theta) - initial_Theta)/ initial_Theta,'bo',ms=1)\n",
    "plt.show()"
   ]
  },
  {
   "cell_type": "code",
   "execution_count": 15,
   "metadata": {},
   "outputs": [
    {
     "data": {
      "application/vnd.jupyter.widget-view+json": {
       "model_id": "210ec62d1f7e4efbb3b070e9ab7179f6",
       "version_major": 2,
       "version_minor": 0
      },
      "text/html": [
       "<p>Failed to display Jupyter Widget of type <code>HBox</code>.</p>\n",
       "<p>\n",
       "  If you're reading this message in Jupyter Notebook or JupyterLab, it may mean\n",
       "  that the widgets JavaScript is still loading. If this message persists, it\n",
       "  likely means that the widgets JavaScript library is either not installed or\n",
       "  not enabled. See the <a href=\"https://ipywidgets.readthedocs.io/en/stable/user_install.html\">Jupyter\n",
       "  Widgets Documentation</a> for setup instructions.\n",
       "</p>\n",
       "<p>\n",
       "  If you're reading this message in another notebook frontend (for example, a static\n",
       "  rendering on GitHub or <a href=\"https://nbviewer.jupyter.org/\">NBViewer</a>),\n",
       "  it may mean that your frontend doesn't currently support widgets.\n",
       "</p>\n"
      ],
      "text/plain": [
       "HBox(children=(IntProgress(value=0, max=10000), HTML(value='')))"
      ]
     },
     "metadata": {},
     "output_type": "display_data"
    },
    {
     "name": "stdout",
     "output_type": "stream",
     "text": [
      "\n"
     ]
    },
    {
     "data": {
      "image/png": "[encoded data removed]",
      "text/plain": [
       "<matplotlib.figure.Figure at 0x7f89c282f748>"
      ]
     },
     "metadata": {},
     "output_type": "display_data"
    }
   ],
   "source": [
    "for i in tqdm(range(n)):\n",
    "    mean_theta=[]\n",
    "    for j in range(len(results[i])):#range(1):\n",
    "        mean_theta.append(results[i][j][0][-1])\n",
    "    initial_Theta=init_Theta\n",
    "    plt.plot(i,np.abs(np.mean(mean_theta) - initial_Theta)/ initial_Theta,'bo',ms=1)\n",
    "plt.show()"
   ]
  },
  {
   "cell_type": "code",
   "execution_count": 43,
   "metadata": {},
   "outputs": [
    {
     "name": "stdout",
     "output_type": "stream",
     "text": [
      "Initialized empty Git repository in /home/jovyan/Prediction of Viral Memes/.git/\r\n"
     ]
    }
   ],
   "source": [
    "!git add CC"
   ]
  },
  {
   "cell_type": "code",
   "execution_count": null,
   "metadata": {
    "scrolled": true
   },
   "outputs": [],
   "source": [
    "# def plot_results(results,user):\n",
    "#     for j in range(len(results[user])):#range(1):\n",
    "#         initial_Theta=init_Theta\n",
    "#         plt.plot(user,np.abs(results[user][j][0][-1] - initial_Theta)/ initial_Theta,colors[j]+'o',ms=1)\n",
    "# aprun(bar='txt')(delayed(plot_results)(results,i) for i in range(n))\n",
    "# plt.show()"
   ]
  },
  {
   "cell_type": "code",
   "execution_count": null,
   "metadata": {},
   "outputs": [],
   "source": [
    "initial_theta = np.random.random_sample(1000)/10\n",
    "alpha = 0.05\n",
    "iterations = 100\n",
    "results=aprun(bar='txt')(delayed(Estimate_theta)(df,i,initial_theta[i],alpha,iterations) for i in range(1000))\n",
    "est_theta=[]\n",
    "cost=[]\n",
    "hist_theta=[]\n",
    "gradient=[]\n",
    "for i in range(1000):\n",
    "    est_theta.append(results[i][0][100])\n",
    "    hist_theta.append(results[i][0])\n",
    "    cost.append(results[i][1])\n",
    "    gradient.append(results[i][2])\n",
    "plt.plot([np.abs(x - init_Theta)/ init_Theta for x in est_theta],'bo')\n",
    "plt.show()\n",
    "plt.plot(np.mean(np.array(cost), axis=0))\n",
    "plt.show()\n",
    "dop_theta=[]\n",
    "for i in range(1000):\n",
    "    dop_theta.append([np.abs(x - init_Theta)/ init_Theta for x in hist_theta[i]])\n",
    "plt.plot(np.mean(np.array(dop_theta), axis=0))\n",
    "plt.show()\n",
    "for i in range(1000):\n",
    "    dop_theta[i]=[(x-min(dop_theta[i]))/(max(dop_theta[i])-min(dop_theta[i])) for x in dop_theta[i]]\n",
    "plt.plot(np.mean(np.array(dop_theta), axis=0))\n",
    "plt.show()\n",
    "plt.plot(np.mean(np.array(gradient), axis=0)[1:])\n",
    "plt.show()"
   ]
  },
  {
   "cell_type": "code",
   "execution_count": null,
   "metadata": {},
   "outputs": [],
   "source": [
    "plt.hist(np.array(cost)[:,98])\n",
    "plt.show()"
   ]
  },
  {
   "cell_type": "markdown",
   "metadata": {},
   "source": [
    "##### Wykres masymalnego w / liczba aktywnych kampanii na koniec procesu dla wszystkich użytkowników"
   ]
  },
  {
   "cell_type": "code",
   "execution_count": null,
   "metadata": {},
   "outputs": [],
   "source": [
    "tmp=[]\n",
    "for i in tqdm(range(df['user'].max()+1)):\n",
    "    tmp.append(sum(indykatory[N][i,:])/Y[i])\n",
    "plt.plot(tmp,'bo')\n",
    "del tmp"
   ]
  },
  {
   "cell_type": "markdown",
   "metadata": {},
   "source": [
    "#### Różnica pomiędzy liczbą aktywacji z indykatorów, a licznikiem aktywacji"
   ]
  },
  {
   "cell_type": "code",
   "execution_count": null,
   "metadata": {
    "scrolled": false
   },
   "outputs": [],
   "source": [
    "tmp=[]\n",
    "for i in tqdm(range(n)):\n",
    "    tmp.append(sum(np.logical_xor(indykatory[N][i,:],indykatory[0][i,:]))-Y[i][0])\n",
    "    #if sum(np.logical_xor(indykatory[N][i,:],indykatory[0][i,:]))-Y[i][0]<0:\n",
    "     #   print(i)\n",
    "plt.hist(tmp)\n",
    "plt.show()\n",
    "plt.plot(tmp,'bo')\n",
    "plt.show()\n",
    "del tmp"
   ]
  },
  {
   "cell_type": "code",
   "execution_count": null,
   "metadata": {},
   "outputs": [],
   "source": []
  }
 ],
 "metadata": {
  "kernelspec": {
   "display_name": "Python 3",
   "language": "python",
   "name": "python3"
  },
  "language_info": {
   "codemirror_mode": {
    "name": "ipython",
    "version": 3
   },
   "file_extension": ".py",
   "mimetype": "text/x-python",
   "name": "python",
   "nbconvert_exporter": "python",
   "pygments_lexer": "ipython3",
   "version": "3.6.2"
  }
 },
 "nbformat": 4,
 "nbformat_minor": 2
}
