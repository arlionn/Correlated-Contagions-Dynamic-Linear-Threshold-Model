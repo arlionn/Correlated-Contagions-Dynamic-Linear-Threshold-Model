{
 "cells": [
  {
   "cell_type": "code",
   "execution_count": 240,
   "metadata": {},
   "outputs": [],
   "source": [
    "n=10000\n",
    "m=10\n",
    "p=3 #Barabasi-Albert parameter\n",
    "init_Theta=0.05#0.06\n",
    "N=10 #number of time steps\n",
    "r=0 #0.3 #szansa aktywacji przy negatywnej korelacji\n",
    "prob=0.20 #prawd. aktywności użytkownika w danej epidemii (do generaowania macierzy)\n",
    "a=0.15#0.04 # parameter kształtu powr-law"
   ]
  },
  {
   "cell_type": "code",
   "execution_count": 241,
   "metadata": {},
   "outputs": [
    {
     "name": "stdout",
     "output_type": "stream",
     "text": [
      "1.Undirected graph done!\n",
      "2.Directed graph done!\n"
     ]
    },
    {
     "data": {
      "application/vnd.jupyter.widget-view+json": {
       "model_id": "5f043ce84abd45a5985c9969eec07345",
       "version_major": 2,
       "version_minor": 0
      },
      "text/html": [
       "<p>Failed to display Jupyter Widget of type <code>HBox</code>.</p>\n",
       "<p>\n",
       "  If you're reading this message in Jupyter Notebook or JupyterLab, it may mean\n",
       "  that the widgets JavaScript is still loading. If this message persists, it\n",
       "  likely means that the widgets JavaScript library is either not installed or\n",
       "  not enabled. See the <a href=\"https://ipywidgets.readthedocs.io/en/stable/user_install.html\">Jupyter\n",
       "  Widgets Documentation</a> for setup instructions.\n",
       "</p>\n",
       "<p>\n",
       "  If you're reading this message in another notebook frontend (for example, a static\n",
       "  rendering on GitHub or <a href=\"https://nbviewer.jupyter.org/\">NBViewer</a>),\n",
       "  it may mean that your frontend doesn't currently support widgets.\n",
       "</p>\n"
      ],
      "text/plain": [
       "HBox(children=(IntProgress(value=0, max=59982), HTML(value='')))"
      ]
     },
     "metadata": {},
     "output_type": "display_data"
    },
    {
     "name": "stdout",
     "output_type": "stream",
     "text": [
      "\n",
      "3.Wieghts assigned!\n"
     ]
    },
    {
     "data": {
      "application/vnd.jupyter.widget-view+json": {
       "model_id": "5d5414e03d3f40c9ab345ffc39fdfba3",
       "version_major": 2,
       "version_minor": 0
      },
      "text/html": [
       "<p>Failed to display Jupyter Widget of type <code>HBox</code>.</p>\n",
       "<p>\n",
       "  If you're reading this message in Jupyter Notebook or JupyterLab, it may mean\n",
       "  that the widgets JavaScript is still loading. If this message persists, it\n",
       "  likely means that the widgets JavaScript library is either not installed or\n",
       "  not enabled. See the <a href=\"https://ipywidgets.readthedocs.io/en/stable/user_install.html\">Jupyter\n",
       "  Widgets Documentation</a> for setup instructions.\n",
       "</p>\n",
       "<p>\n",
       "  If you're reading this message in another notebook frontend (for example, a static\n",
       "  rendering on GitHub or <a href=\"https://nbviewer.jupyter.org/\">NBViewer</a>),\n",
       "  it may mean that your frontend doesn't currently support widgets.\n",
       "</p>\n"
      ],
      "text/plain": [
       "HBox(children=(IntProgress(value=0, max=10000), HTML(value='')))"
      ]
     },
     "metadata": {},
     "output_type": "display_data"
    },
    {
     "name": "stdout",
     "output_type": "stream",
     "text": [
      "\n",
      "4.Wieghts normalized!\n",
      "4.Adjacency (sparse) matrix created!\n"
     ]
    }
   ],
   "source": [
    "%matplotlib inline\n",
    "\n",
    "import matplotlib\n",
    "import numpy as np\n",
    "np.set_printoptions(threshold=np.nan)\n",
    "import matplotlib.pyplot as plt\n",
    "from tqdm import tqdm_notebook as tqdm\n",
    "import networkx as nx\n",
    "import scipy.sparse as sparse\n",
    "import asizeof\n",
    "from collections import defaultdict\n",
    "G=nx.barabasi_albert_graph(n, p)\n",
    "print('1.Undirected graph done!')\n",
    "G=G.to_directed()\n",
    "print('2.Directed graph done!')\n",
    "for u,v in tqdm(G.edges()):\n",
    "    G[u][v]['weight']=1.0#np.random.uniform(0,1)\n",
    "print('3.Wieghts assigned!')\n",
    "for i in tqdm(range(n)):\n",
    "    in_degree=G.in_degree(i,weight='weight')\n",
    "    for u,v in G.in_edges(i):\n",
    "        #print(u,v,G[u][v]['weight'],G[u][v]['weight'] / in_degree, in_degree)\n",
    "        G[u][v]['weight']/=in_degree\n",
    "print('4.Wieghts normalized!')\n",
    "W=nx.adjacency_matrix(G,weight='weight')\n",
    "print('4.Adjacency (sparse) matrix created!')"
   ]
  },
  {
   "cell_type": "code",
   "execution_count": 242,
   "metadata": {},
   "outputs": [
    {
     "name": "stdout",
     "output_type": "stream",
     "text": [
      "-0.960692492743 1.0 0.205043315863 0.302298647108\n",
      "Correlation matrix done!\n"
     ]
    }
   ],
   "source": [
    "C = np.random.random((m, m))\n",
    "C=C*2-1\n",
    "C *= np.tri(*C.shape,k=-1)\n",
    "C=C+np.transpose(C)+np.eye(m)\n",
    "print(C.min(),C.max(),C.mean(),np.median(C))\n",
    "print(\"Correlation matrix done!\")"
   ]
  },
  {
   "cell_type": "code",
   "execution_count": 243,
   "metadata": {},
   "outputs": [
    {
     "data": {
      "text/plain": [
       "-0.82269349017344617"
      ]
     },
     "execution_count": 243,
     "metadata": {},
     "output_type": "execute_result"
    }
   ],
   "source": [
    "C[3][5]"
   ]
  },
  {
   "cell_type": "code",
   "execution_count": 244,
   "metadata": {},
   "outputs": [
    {
     "data": {
      "application/vnd.jupyter.widget-view+json": {
       "model_id": "968b7647b31e480a84635ed8a432cd09",
       "version_major": 2,
       "version_minor": 0
      },
      "text/html": [
       "<p>Failed to display Jupyter Widget of type <code>HBox</code>.</p>\n",
       "<p>\n",
       "  If you're reading this message in Jupyter Notebook or JupyterLab, it may mean\n",
       "  that the widgets JavaScript is still loading. If this message persists, it\n",
       "  likely means that the widgets JavaScript library is either not installed or\n",
       "  not enabled. See the <a href=\"https://ipywidgets.readthedocs.io/en/stable/user_install.html\">Jupyter\n",
       "  Widgets Documentation</a> for setup instructions.\n",
       "</p>\n",
       "<p>\n",
       "  If you're reading this message in another notebook frontend (for example, a static\n",
       "  rendering on GitHub or <a href=\"https://nbviewer.jupyter.org/\">NBViewer</a>),\n",
       "  it may mean that your frontend doesn't currently support widgets.\n",
       "</p>\n"
      ],
      "text/plain": [
       "HBox(children=(IntProgress(value=0, max=10), HTML(value='')))"
      ]
     },
     "metadata": {},
     "output_type": "display_data"
    },
    {
     "name": "stdout",
     "output_type": "stream",
     "text": [
      "\n",
      "Initial state assigned!\n"
     ]
    }
   ],
   "source": [
    "indykatory=[]\n",
    "frakcje=[]\n",
    "import scipy.stats as stats\n",
    "frac_inf=np.ceil(stats.powerlaw.rvs(a,size=(m))*n).astype(int)\n",
    "I=np.full((n, m), False, dtype=bool)\n",
    "for i in tqdm(range(m)):\n",
    "    I[np.ix_(stats.randint.rvs(0, n-1, size=frac_inf[i]),[i])]=True\n",
    "indykatory.append(I)\n",
    "frakcje.append(np.vstack((range(m),np.sum(I,axis=0)/n)))\n",
    "I=I.copy()\n",
    "print(\"Initial state assigned!\")"
   ]
  },
  {
   "cell_type": "code",
   "execution_count": 245,
   "metadata": {},
   "outputs": [
    {
     "name": "stdout",
     "output_type": "stream",
     "text": [
      "Initial Theta assigned!\n"
     ]
    }
   ],
   "source": [
    "Theta=np.full((n,m), init_Theta)\n",
    "print(\"Initial Theta assigned!\")"
   ]
  },
  {
   "cell_type": "code",
   "execution_count": 246,
   "metadata": {},
   "outputs": [
    {
     "name": "stdout",
     "output_type": "stream",
     "text": [
      "Activation counter initiated!\n"
     ]
    }
   ],
   "source": [
    "Y=np.full((n,1),0)\n",
    "print(\"Activation counter initiated!\")"
   ]
  },
  {
   "cell_type": "code",
   "execution_count": 247,
   "metadata": {},
   "outputs": [
    {
     "data": {
      "text/plain": [
       "0"
      ]
     },
     "execution_count": 247,
     "metadata": {},
     "output_type": "execute_result"
    }
   ],
   "source": [
    "dep_3_5=dict()\n",
    "for i in range(0,101):\n",
    "    dep_3_5[i]=0\n",
    "dep_3_5[0]"
   ]
  },
  {
   "cell_type": "code",
   "execution_count": 248,
   "metadata": {},
   "outputs": [
    {
     "data": {
      "application/vnd.jupyter.widget-view+json": {
       "model_id": "d19385a44b0c491daa92d23180b63a26",
       "version_major": 2,
       "version_minor": 0
      },
      "text/html": [
       "<p>Failed to display Jupyter Widget of type <code>HBox</code>.</p>\n",
       "<p>\n",
       "  If you're reading this message in Jupyter Notebook or JupyterLab, it may mean\n",
       "  that the widgets JavaScript is still loading. If this message persists, it\n",
       "  likely means that the widgets JavaScript library is either not installed or\n",
       "  not enabled. See the <a href=\"https://ipywidgets.readthedocs.io/en/stable/user_install.html\">Jupyter\n",
       "  Widgets Documentation</a> for setup instructions.\n",
       "</p>\n",
       "<p>\n",
       "  If you're reading this message in another notebook frontend (for example, a static\n",
       "  rendering on GitHub or <a href=\"https://nbviewer.jupyter.org/\">NBViewer</a>),\n",
       "  it may mean that your frontend doesn't currently support widgets.\n",
       "</p>\n"
      ],
      "text/plain": [
       "HBox(children=(IntProgress(value=0, max=10), HTML(value='')))"
      ]
     },
     "metadata": {},
     "output_type": "display_data"
    },
    {
     "name": "stdout",
     "output_type": "stream",
     "text": [
      "\n"
     ]
    }
   ],
   "source": [
    "#dep_23_45=defaultdict(lambda: 0)\n",
    "for l in tqdm(range(N)):    \n",
    "    U=W.transpose().dot(I)\n",
    "    F=U.dot(C)/m\n",
    "    #print(F.min(),F.max(),F.mean(),l)\n",
    "    temp=np.greater_equal(F, Theta) #porównanie funkcji aktywacji z progiem\n",
    "    for i in np.unique(np.where(temp[:,:]==True)[0]): #interacja po użytkownikach, którzy mają przekroczony próg\n",
    "        temp1=np.where(temp[i,:]==True)[0] #tagi, w których dla użytkownika i przekroczony był próg\n",
    "        #print(i,temp1.shape,l)\n",
    "        temp2=np.where(I[i][temp1]==True)[0] #tagi juz aktywne\n",
    "        temp1=np.setdiff1d(temp1,temp2) #usuniecie juz aktywnych tagow\n",
    "        # CZY NIE TRZEBA OSOBNO OBSLUZYC PUSTYCH temp1?\n",
    "        if not np.any(C[temp1[:, None],temp1]<0): #sprawdzenie, czy kandydaci do aktywacji nie są negatywnie skorelowani\n",
    "            if np.any(np.isin(temp1,5)):\n",
    "                dep_3_5[int(U[i][3]*100)]+=1\n",
    "                #print(int(U[i][3]*100))\n",
    "            I[i][temp1]=1 #aktywacja uzytkownika i w tagach z listy temp1\n",
    "            Y[i]+=1 #zwiekszenie licznika aktywacji uzytkownika i\n",
    "            Theta[i]=1-(1-init_Theta)**Y[i] #aktualizacja thety\n",
    "        else:\n",
    "            if np.random.rand()<r: #aktywacji pomimo negatywnej korelacji z pr. r\n",
    "                I[i][temp1]=True\n",
    "                Y[i]+=1\n",
    "                Theta[i]=1-(1-init_Theta)**Y[i]\n",
    "    indykatory.append(I)\n",
    "    frakcje.append(np.vstack((range(m),np.sum(I,axis=0)/n)))\n",
    "    I=I.copy()\n",
    "del temp"
   ]
  },
  {
   "cell_type": "code",
   "execution_count": 249,
   "metadata": {},
   "outputs": [
    {
     "data": {
      "image/png": "[encoded data removed]",
      "text/plain": [
       "<matplotlib.figure.Figure at 0x7fc5e47b75c0>"
      ]
     },
     "metadata": {},
     "output_type": "display_data"
    },
    {
     "data": {
      "image/png": "[encoded data removed]",
      "text/plain": [
       "<matplotlib.figure.Figure at 0x7fc5e49a3a90>"
      ]
     },
     "metadata": {},
     "output_type": "display_data"
    },
    {
     "data": {
      "image/png": "[encoded data removed]",
      "text/plain": [
       "<matplotlib.figure.Figure at 0x7fc5e25612e8>"
      ]
     },
     "metadata": {},
     "output_type": "display_data"
    },
    {
     "data": {
      "image/png": "[encoded data removed]",
      "text/plain": [
       "<matplotlib.figure.Figure at 0x7fc5e47758d0>"
      ]
     },
     "metadata": {},
     "output_type": "display_data"
    },
    {
     "data": {
      "image/png": "[encoded data removed]",
      "text/plain": [
       "<matplotlib.figure.Figure at 0x7fc5e3993710>"
      ]
     },
     "metadata": {},
     "output_type": "display_data"
    },
    {
     "data": {
      "image/png": "[encoded data removed]",
      "text/plain": [
       "<matplotlib.figure.Figure at 0x7fc5e2561978>"
      ]
     },
     "metadata": {},
     "output_type": "display_data"
    },
    {
     "data": {
      "image/png": "[encoded data removed]",
      "text/plain": [
       "<matplotlib.figure.Figure at 0x7fc5e47346d8>"
      ]
     },
     "metadata": {},
     "output_type": "display_data"
    },
    {
     "data": {
      "image/png": "[encoded data removed]",
      "text/plain": [
       "<matplotlib.figure.Figure at 0x7fc5e477c8d0>"
      ]
     },
     "metadata": {},
     "output_type": "display_data"
    },
    {
     "data": {
      "image/png": "[encoded data removed]",
      "text/plain": [
       "<matplotlib.figure.Figure at 0x7fc5e4775e10>"
      ]
     },
     "metadata": {},
     "output_type": "display_data"
    },
    {
     "data": {
      "image/png": "[encoded data removed]",
      "text/plain": [
       "<matplotlib.figure.Figure at 0x7fc5e4a57ef0>"
      ]
     },
     "metadata": {},
     "output_type": "display_data"
    },
    {
     "data": {
      "image/png": "[encoded data removed]",
      "text/plain": [
       "<matplotlib.figure.Figure at 0x7fc5e2b5be48>"
      ]
     },
     "metadata": {},
     "output_type": "display_data"
    }
   ],
   "source": [
    "for i in range(N+1):\n",
    "    plt.plot(frakcje[i][1], 'ro')\n",
    "    axes = plt.gca()\n",
    "    axes.set_ylim([0,1])\n",
    "    if i>0:\n",
    "        wzrost=frakcje[i][np.ix_([0,1],np.where(frakcje[i]>frakcje[i-1])[1])]\n",
    "        plt.plot(wzrost[0],wzrost[1], 'go')\n",
    "    plt.show()"
   ]
  },
  {
   "cell_type": "code",
   "execution_count": 250,
   "metadata": {},
   "outputs": [
    {
     "name": "stdout",
     "output_type": "stream",
     "text": [
      "7\n",
      "8\n",
      "9\n"
     ]
    }
   ],
   "source": [
    "for i in range(N):\n",
    "    if np.array_equal(indykatory[i],indykatory[i+1])==True:\n",
    "        print(i)"
   ]
  },
  {
   "cell_type": "code",
   "execution_count": 251,
   "metadata": {},
   "outputs": [
    {
     "data": {
      "image/png": "[encoded data removed]",
      "text/plain": [
       "<matplotlib.figure.Figure at 0x7fc5e47b79e8>"
      ]
     },
     "metadata": {},
     "output_type": "display_data"
    }
   ],
   "source": [
    "lists = sorted(dep_3_5.items()) # sorted by key, return a list of tuples\n",
    "\n",
    "x, y = zip(*lists) # unpack a list of pairs into two tuples\n",
    "\n",
    "plt.plot(x, y, 'go')\n",
    "plt.show()"
   ]
  },
  {
   "cell_type": "code",
   "execution_count": null,
   "metadata": {},
   "outputs": [],
   "source": []
  }
 ],
 "metadata": {
  "kernelspec": {
   "display_name": "Python 3",
   "language": "python",
   "name": "python3"
  },
  "language_info": {
   "codemirror_mode": {
    "name": "ipython",
    "version": 3
   },
   "file_extension": ".py",
   "mimetype": "text/x-python",
   "name": "python",
   "nbconvert_exporter": "python",
   "pygments_lexer": "ipython3",
   "version": "3.6.2"
  }
 },
 "nbformat": 4,
 "nbformat_minor": 2
}
